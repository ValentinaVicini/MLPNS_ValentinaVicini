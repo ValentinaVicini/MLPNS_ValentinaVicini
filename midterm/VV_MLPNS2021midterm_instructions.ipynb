{
  "nbformat": 4,
  "nbformat_minor": 0,
  "metadata": {
    "colab": {
      "name": "MLPNS2021midterm_instructions.ipynb",
      "provenance": [],
      "collapsed_sections": [],
      "include_colab_link": true
    },
    "kernelspec": {
      "name": "python3",
      "display_name": "Python 3"
    }
  },
  "cells": [
    {
      "cell_type": "markdown",
      "metadata": {
        "id": "view-in-github",
        "colab_type": "text"
      },
      "source": [
        "<a href=\"https://colab.research.google.com/github/ValentinaVicini/MLPNS_ValentinaVicini/blob/main/midterm/VV_MLPNS2021midterm_instructions.ipynb\" target=\"_parent\"><img src=\"https://colab.research.google.com/assets/colab-badge.svg\" alt=\"Open In Colab\"/></a>"
      ]
    },
    {
      "cell_type": "markdown",
      "metadata": {
        "id": "4tbkzMAe8atQ"
      },
      "source": [
        "#MLPNS 2021 midterm\n",
        "\n",
        "## instructions"
      ]
    },
    {
      "cell_type": "markdown",
      "metadata": {
        "id": "YO2n25U9uel0"
      },
      "source": [
        "# population trends by country through clustering analysis"
      ]
    },
    {
      "cell_type": "markdown",
      "metadata": {
        "id": "Wmn-7suu2MUl"
      },
      "source": [
        "# Please read in full before you start!\n",
        "\n",
        "This exercise combines the two machine learning methods that you have learned so far in this course: linear regression and clustering. \n",
        "\n",
        "There are multiple tasks and for some of them, **if you cannot complete the taks,  there are partial solutions you can access** so you don’t get stuck and can continue the exercise and demonstrate your ability to do the following tasks. I strongly encourage you to do so: there are 10 tasks and you only have ~2 hours! If any task takes you more than 20 minutes you should use the shortcut.\n",
        "\n",
        "I have collected from the World Bank database population grows time series for several countries. \n",
        "\n",
        "## The overall goal is to identify countries that have similar population growth trends over the years and possibly countries that have anomalous population growth. \n",
        "\n",
        "You will be guided to \n",
        "- acquire the data, \n",
        "- explore it and prepare it, \n",
        "- fit a linear model to the each time series, \n",
        "- use the parameters you obtain from that fit as input feature to K-means clustering to group countries based on the trends in the population growth. \n",
        "- You will also be asked to look inside the group and if you have time identify reasons why the Countries within the clusters that may suggest why the trends are similar (thiw sill be very speculative of course)\n",
        "\n",
        "**Make sure you show the characteristics of your data at every step** (by printing the shape of the data, the head of the data, the summary statistics of the data, or plot the data, whichever is apprioriate). \n",
        "\n",
        "**Every plot needs to have axis labels and a caption that describes what is being plotted and what should be noted in the plot** (e.g. global trends in the time series)\n",
        "\n",
        "Your \"grade\" will be based on the rendered notebook, i.e. on the summary a tables and the plots as I see them and the captions that describe them (the captions can be markdown cells in the notebook).\n",
        "\n",
        "After grading your notebook based on the rendered version I will restart it and run it. If it runs and produces  identical results you will get 100% of the points awarded in the previous step. Otherwise you will get 75%. **Make sure you stop a few minutes before the time expires to rerun the notebook!**\n",
        "\n",
        "## feel free to ask question on zoom or on slack!"
      ]
    },
    {
      "cell_type": "code",
      "metadata": {
        "id": "-E7s1FM5PkHC"
      },
      "source": [
        "# these are all the packages I used. But depending on your choices you may need more or other ones. That is ok!\n",
        "\n",
        "import pandas as pd\n",
        "from sklearn import preprocessing\n",
        "import pylab as pl\n",
        "import numpy as np\n",
        "from sklearn.cluster  import KMeans\n",
        "import scipy.optimize\n",
        "\n",
        "\n",
        "pl.rcParams['font.size'] = 18"
      ],
      "execution_count": 1,
      "outputs": []
    },
    {
      "cell_type": "markdown",
      "metadata": {
        "id": "eO9RSHbeX6Jt"
      },
      "source": [
        "\n",
        "# PART 1 - data preparation\n"
      ]
    },
    {
      "cell_type": "markdown",
      "metadata": {
        "id": "zXfKxHTWuZdV"
      },
      "source": [
        "\n",
        "\n",
        "# TASK 1.I - read in the data\n",
        "the data is available in format _excel_ [here](https://github.com/fedhere/MLPNS2021/tree/main/midterm) called _country_pop.xls_\n",
        "\n",
        "Pandas has a function, similar to ```read_csv()``` which you used in class, called ```read_excel()```. Download the data in your drive and read it in with this function. You can either download it and read it from your drive. Please put it in a folder My\\ Drive/MLPNS (so that I can run the notebook seamlessly without having to change the path since I have the file stored in My\\ Drive/MLPNS). \n",
        "\n",
        "At the end the file should look like mine below. You should not spend more than 20 minutes on this or you will not have enough time to finish. If after 20 minutes you are still working on it consider using the shortcut\n",
        "\n",
        "## shortcut: \n",
        "if you have troubles reading in the original file with excel you can read in a csv file [here](https://github.com/fedhere/MLPNS2021/tree/main/midterm): the file is called _country_pop.csv_"
      ]
    },
    {
      "cell_type": "code",
      "metadata": {
        "colab": {
          "base_uri": "https://localhost:8080/"
        },
        "id": "G-vQZhC9SkBk",
        "outputId": "d4887d20-ff37-4edc-cccb-422e0c7eccb6"
      },
      "source": [
        "from google.colab import drive\n",
        "drive.mount(\"/content/drive\")"
      ],
      "execution_count": 2,
      "outputs": [
        {
          "output_type": "stream",
          "text": [
            "Drive already mounted at /content/drive; to attempt to forcibly remount, call drive.mount(\"/content/drive\", force_remount=True).\n"
          ],
          "name": "stdout"
        }
      ]
    },
    {
      "cell_type": "code",
      "metadata": {
        "colab": {
          "base_uri": "https://localhost:8080/"
        },
        "id": "lTw7wsKxTQJe",
        "outputId": "907ce9e4-cdf7-4e71-e7cb-697bf4735ada"
      },
      "source": [
        "cd /content/drive/My\\ Drive/MLPNS"
      ],
      "execution_count": 3,
      "outputs": [
        {
          "output_type": "stream",
          "text": [
            "/content/drive/My Drive/MLPNS\n"
          ],
          "name": "stdout"
        }
      ]
    },
    {
      "cell_type": "code",
      "metadata": {
        "colab": {
          "base_uri": "https://localhost:8080/"
        },
        "id": "DanYvIbJTfva",
        "outputId": "89850cbf-54b2-49a9-d2fd-d3a0e94103ee"
      },
      "source": [
        "ls"
      ],
      "execution_count": 4,
      "outputs": [
        {
          "output_type": "stream",
          "text": [
            "country_pop.xls\n"
          ],
          "name": "stdout"
        }
      ]
    },
    {
      "cell_type": "code",
      "metadata": {
        "id": "t97fV61vTY67"
      },
      "source": [
        "datain = pd.read_excel(\"country_pop.xls\", skiprows = 3)"
      ],
      "execution_count": 5,
      "outputs": []
    },
    {
      "cell_type": "code",
      "metadata": {
        "colab": {
          "base_uri": "https://localhost:8080/",
          "height": 316
        },
        "id": "fWX4PW65qeg0",
        "outputId": "9441c21b-5311-49ee-9c48-e58703f75bea"
      },
      "source": [
        "#leave\n",
        "datain.head()"
      ],
      "execution_count": 6,
      "outputs": [
        {
          "output_type": "execute_result",
          "data": {
            "text/html": [
              "<div>\n",
              "<style scoped>\n",
              "    .dataframe tbody tr th:only-of-type {\n",
              "        vertical-align: middle;\n",
              "    }\n",
              "\n",
              "    .dataframe tbody tr th {\n",
              "        vertical-align: top;\n",
              "    }\n",
              "\n",
              "    .dataframe thead th {\n",
              "        text-align: right;\n",
              "    }\n",
              "</style>\n",
              "<table border=\"1\" class=\"dataframe\">\n",
              "  <thead>\n",
              "    <tr style=\"text-align: right;\">\n",
              "      <th></th>\n",
              "      <th>Country Name</th>\n",
              "      <th>Country Code</th>\n",
              "      <th>Indicator Name</th>\n",
              "      <th>Indicator Code</th>\n",
              "      <th>1960</th>\n",
              "      <th>1961</th>\n",
              "      <th>1962</th>\n",
              "      <th>1963</th>\n",
              "      <th>1964</th>\n",
              "      <th>1965</th>\n",
              "      <th>1966</th>\n",
              "      <th>1967</th>\n",
              "      <th>1968</th>\n",
              "      <th>1969</th>\n",
              "      <th>1970</th>\n",
              "      <th>1971</th>\n",
              "      <th>1972</th>\n",
              "      <th>1973</th>\n",
              "      <th>1974</th>\n",
              "      <th>1975</th>\n",
              "      <th>1976</th>\n",
              "      <th>1977</th>\n",
              "      <th>1978</th>\n",
              "      <th>1979</th>\n",
              "      <th>1980</th>\n",
              "      <th>1981</th>\n",
              "      <th>1982</th>\n",
              "      <th>1983</th>\n",
              "      <th>1984</th>\n",
              "      <th>1985</th>\n",
              "      <th>1986</th>\n",
              "      <th>1987</th>\n",
              "      <th>1988</th>\n",
              "      <th>1989</th>\n",
              "      <th>1990</th>\n",
              "      <th>1991</th>\n",
              "      <th>1992</th>\n",
              "      <th>1993</th>\n",
              "      <th>1994</th>\n",
              "      <th>1995</th>\n",
              "      <th>1996</th>\n",
              "      <th>1997</th>\n",
              "      <th>1998</th>\n",
              "      <th>1999</th>\n",
              "      <th>2000</th>\n",
              "      <th>2001</th>\n",
              "      <th>2002</th>\n",
              "      <th>2003</th>\n",
              "      <th>2004</th>\n",
              "      <th>2005</th>\n",
              "      <th>2006</th>\n",
              "      <th>2007</th>\n",
              "      <th>2008</th>\n",
              "      <th>2009</th>\n",
              "      <th>2010</th>\n",
              "      <th>2011</th>\n",
              "      <th>2012</th>\n",
              "      <th>2013</th>\n",
              "      <th>2014</th>\n",
              "      <th>2015</th>\n",
              "      <th>2016</th>\n",
              "      <th>2017</th>\n",
              "      <th>2018</th>\n",
              "      <th>2019</th>\n",
              "      <th>2020</th>\n",
              "    </tr>\n",
              "  </thead>\n",
              "  <tbody>\n",
              "    <tr>\n",
              "      <th>0</th>\n",
              "      <td>Aruba</td>\n",
              "      <td>ABW</td>\n",
              "      <td>Population, total</td>\n",
              "      <td>SP.POP.TOTL</td>\n",
              "      <td>54211.0</td>\n",
              "      <td>55438.0</td>\n",
              "      <td>56225.0</td>\n",
              "      <td>56695.0</td>\n",
              "      <td>57032.0</td>\n",
              "      <td>57360.0</td>\n",
              "      <td>57715.0</td>\n",
              "      <td>58055.0</td>\n",
              "      <td>58386.0</td>\n",
              "      <td>58726.0</td>\n",
              "      <td>59063.0</td>\n",
              "      <td>59440.0</td>\n",
              "      <td>59840.0</td>\n",
              "      <td>60243.0</td>\n",
              "      <td>60528.0</td>\n",
              "      <td>60657.0</td>\n",
              "      <td>60586.0</td>\n",
              "      <td>60366.0</td>\n",
              "      <td>60103.0</td>\n",
              "      <td>59980.0</td>\n",
              "      <td>60096.0</td>\n",
              "      <td>60567.0</td>\n",
              "      <td>61345.0</td>\n",
              "      <td>62201.0</td>\n",
              "      <td>62836.0</td>\n",
              "      <td>63026.0</td>\n",
              "      <td>62644.0</td>\n",
              "      <td>61833.0</td>\n",
              "      <td>61079.0</td>\n",
              "      <td>61032.0</td>\n",
              "      <td>62149.0</td>\n",
              "      <td>64622.0</td>\n",
              "      <td>68235.0</td>\n",
              "      <td>72504.0</td>\n",
              "      <td>76700.0</td>\n",
              "      <td>80324.0</td>\n",
              "      <td>83200.0</td>\n",
              "      <td>85451.0</td>\n",
              "      <td>87277.0</td>\n",
              "      <td>89005.0</td>\n",
              "      <td>90853.0</td>\n",
              "      <td>92898.0</td>\n",
              "      <td>94992.0</td>\n",
              "      <td>97017.0</td>\n",
              "      <td>98737.0</td>\n",
              "      <td>100031.0</td>\n",
              "      <td>100834.0</td>\n",
              "      <td>101222.0</td>\n",
              "      <td>101358.0</td>\n",
              "      <td>101455.0</td>\n",
              "      <td>101669.0</td>\n",
              "      <td>102046.0</td>\n",
              "      <td>102560.0</td>\n",
              "      <td>103159.0</td>\n",
              "      <td>103774.0</td>\n",
              "      <td>104341.0</td>\n",
              "      <td>104872.0</td>\n",
              "      <td>105366.0</td>\n",
              "      <td>105845.0</td>\n",
              "      <td>106314.0</td>\n",
              "      <td>NaN</td>\n",
              "    </tr>\n",
              "    <tr>\n",
              "      <th>1</th>\n",
              "      <td>Afghanistan</td>\n",
              "      <td>AFG</td>\n",
              "      <td>Population, total</td>\n",
              "      <td>SP.POP.TOTL</td>\n",
              "      <td>8996973.0</td>\n",
              "      <td>9169410.0</td>\n",
              "      <td>9351441.0</td>\n",
              "      <td>9543205.0</td>\n",
              "      <td>9744781.0</td>\n",
              "      <td>9956320.0</td>\n",
              "      <td>10174836.0</td>\n",
              "      <td>10399926.0</td>\n",
              "      <td>10637063.0</td>\n",
              "      <td>10893776.0</td>\n",
              "      <td>11173642.0</td>\n",
              "      <td>11475445.0</td>\n",
              "      <td>11791215.0</td>\n",
              "      <td>12108963.0</td>\n",
              "      <td>12412950.0</td>\n",
              "      <td>12689160.0</td>\n",
              "      <td>12943093.0</td>\n",
              "      <td>13171306.0</td>\n",
              "      <td>13341198.0</td>\n",
              "      <td>13411056.0</td>\n",
              "      <td>13356511.0</td>\n",
              "      <td>13171673.0</td>\n",
              "      <td>12882528.0</td>\n",
              "      <td>12537730.0</td>\n",
              "      <td>12204292.0</td>\n",
              "      <td>11938208.0</td>\n",
              "      <td>11736179.0</td>\n",
              "      <td>11604534.0</td>\n",
              "      <td>11618005.0</td>\n",
              "      <td>11868877.0</td>\n",
              "      <td>12412308.0</td>\n",
              "      <td>13299017.0</td>\n",
              "      <td>14485546.0</td>\n",
              "      <td>15816603.0</td>\n",
              "      <td>17075727.0</td>\n",
              "      <td>18110657.0</td>\n",
              "      <td>18853437.0</td>\n",
              "      <td>19357126.0</td>\n",
              "      <td>19737765.0</td>\n",
              "      <td>20170844.0</td>\n",
              "      <td>20779953.0</td>\n",
              "      <td>21606988.0</td>\n",
              "      <td>22600770.0</td>\n",
              "      <td>23680871.0</td>\n",
              "      <td>24726684.0</td>\n",
              "      <td>25654277.0</td>\n",
              "      <td>26433049.0</td>\n",
              "      <td>27100536.0</td>\n",
              "      <td>27722276.0</td>\n",
              "      <td>28394813.0</td>\n",
              "      <td>29185507.0</td>\n",
              "      <td>30117413.0</td>\n",
              "      <td>31161376.0</td>\n",
              "      <td>32269589.0</td>\n",
              "      <td>33370794.0</td>\n",
              "      <td>34413603.0</td>\n",
              "      <td>35383128.0</td>\n",
              "      <td>36296400.0</td>\n",
              "      <td>37172386.0</td>\n",
              "      <td>38041754.0</td>\n",
              "      <td>NaN</td>\n",
              "    </tr>\n",
              "    <tr>\n",
              "      <th>2</th>\n",
              "      <td>Angola</td>\n",
              "      <td>AGO</td>\n",
              "      <td>Population, total</td>\n",
              "      <td>SP.POP.TOTL</td>\n",
              "      <td>5454933.0</td>\n",
              "      <td>5531472.0</td>\n",
              "      <td>5608539.0</td>\n",
              "      <td>5679458.0</td>\n",
              "      <td>5735044.0</td>\n",
              "      <td>5770570.0</td>\n",
              "      <td>5781214.0</td>\n",
              "      <td>5774243.0</td>\n",
              "      <td>5771652.0</td>\n",
              "      <td>5803254.0</td>\n",
              "      <td>5890365.0</td>\n",
              "      <td>6040777.0</td>\n",
              "      <td>6248552.0</td>\n",
              "      <td>6496962.0</td>\n",
              "      <td>6761380.0</td>\n",
              "      <td>7024000.0</td>\n",
              "      <td>7279509.0</td>\n",
              "      <td>7533735.0</td>\n",
              "      <td>7790707.0</td>\n",
              "      <td>8058067.0</td>\n",
              "      <td>8341289.0</td>\n",
              "      <td>8640446.0</td>\n",
              "      <td>8952950.0</td>\n",
              "      <td>9278096.0</td>\n",
              "      <td>9614754.0</td>\n",
              "      <td>9961997.0</td>\n",
              "      <td>10320111.0</td>\n",
              "      <td>10689250.0</td>\n",
              "      <td>11068050.0</td>\n",
              "      <td>11454777.0</td>\n",
              "      <td>11848386.0</td>\n",
              "      <td>12248901.0</td>\n",
              "      <td>12657366.0</td>\n",
              "      <td>13075049.0</td>\n",
              "      <td>13503747.0</td>\n",
              "      <td>13945206.0</td>\n",
              "      <td>14400719.0</td>\n",
              "      <td>14871570.0</td>\n",
              "      <td>15359601.0</td>\n",
              "      <td>15866869.0</td>\n",
              "      <td>16395473.0</td>\n",
              "      <td>16945753.0</td>\n",
              "      <td>17519417.0</td>\n",
              "      <td>18121479.0</td>\n",
              "      <td>18758145.0</td>\n",
              "      <td>19433602.0</td>\n",
              "      <td>20149901.0</td>\n",
              "      <td>20905363.0</td>\n",
              "      <td>21695634.0</td>\n",
              "      <td>22514281.0</td>\n",
              "      <td>23356246.0</td>\n",
              "      <td>24220661.0</td>\n",
              "      <td>25107931.0</td>\n",
              "      <td>26015780.0</td>\n",
              "      <td>26941779.0</td>\n",
              "      <td>27884381.0</td>\n",
              "      <td>28842484.0</td>\n",
              "      <td>29816748.0</td>\n",
              "      <td>30809762.0</td>\n",
              "      <td>31825295.0</td>\n",
              "      <td>NaN</td>\n",
              "    </tr>\n",
              "    <tr>\n",
              "      <th>3</th>\n",
              "      <td>Albania</td>\n",
              "      <td>ALB</td>\n",
              "      <td>Population, total</td>\n",
              "      <td>SP.POP.TOTL</td>\n",
              "      <td>1608800.0</td>\n",
              "      <td>1659800.0</td>\n",
              "      <td>1711319.0</td>\n",
              "      <td>1762621.0</td>\n",
              "      <td>1814135.0</td>\n",
              "      <td>1864791.0</td>\n",
              "      <td>1914573.0</td>\n",
              "      <td>1965598.0</td>\n",
              "      <td>2022272.0</td>\n",
              "      <td>2081695.0</td>\n",
              "      <td>2135479.0</td>\n",
              "      <td>2187853.0</td>\n",
              "      <td>2243126.0</td>\n",
              "      <td>2296752.0</td>\n",
              "      <td>2350124.0</td>\n",
              "      <td>2404831.0</td>\n",
              "      <td>2458526.0</td>\n",
              "      <td>2513546.0</td>\n",
              "      <td>2566266.0</td>\n",
              "      <td>2617832.0</td>\n",
              "      <td>2671997.0</td>\n",
              "      <td>2726056.0</td>\n",
              "      <td>2784278.0</td>\n",
              "      <td>2843960.0</td>\n",
              "      <td>2904429.0</td>\n",
              "      <td>2964762.0</td>\n",
              "      <td>3022635.0</td>\n",
              "      <td>3083605.0</td>\n",
              "      <td>3142336.0</td>\n",
              "      <td>3227943.0</td>\n",
              "      <td>3286542.0</td>\n",
              "      <td>3266790.0</td>\n",
              "      <td>3247039.0</td>\n",
              "      <td>3227287.0</td>\n",
              "      <td>3207536.0</td>\n",
              "      <td>3187784.0</td>\n",
              "      <td>3168033.0</td>\n",
              "      <td>3148281.0</td>\n",
              "      <td>3128530.0</td>\n",
              "      <td>3108778.0</td>\n",
              "      <td>3089027.0</td>\n",
              "      <td>3060173.0</td>\n",
              "      <td>3051010.0</td>\n",
              "      <td>3039616.0</td>\n",
              "      <td>3026939.0</td>\n",
              "      <td>3011487.0</td>\n",
              "      <td>2992547.0</td>\n",
              "      <td>2970017.0</td>\n",
              "      <td>2947314.0</td>\n",
              "      <td>2927519.0</td>\n",
              "      <td>2913021.0</td>\n",
              "      <td>2905195.0</td>\n",
              "      <td>2900401.0</td>\n",
              "      <td>2895092.0</td>\n",
              "      <td>2889104.0</td>\n",
              "      <td>2880703.0</td>\n",
              "      <td>2876101.0</td>\n",
              "      <td>2873457.0</td>\n",
              "      <td>2866376.0</td>\n",
              "      <td>2854191.0</td>\n",
              "      <td>NaN</td>\n",
              "    </tr>\n",
              "    <tr>\n",
              "      <th>4</th>\n",
              "      <td>Andorra</td>\n",
              "      <td>AND</td>\n",
              "      <td>Population, total</td>\n",
              "      <td>SP.POP.TOTL</td>\n",
              "      <td>13411.0</td>\n",
              "      <td>14375.0</td>\n",
              "      <td>15370.0</td>\n",
              "      <td>16412.0</td>\n",
              "      <td>17469.0</td>\n",
              "      <td>18549.0</td>\n",
              "      <td>19647.0</td>\n",
              "      <td>20758.0</td>\n",
              "      <td>21890.0</td>\n",
              "      <td>23058.0</td>\n",
              "      <td>24276.0</td>\n",
              "      <td>25559.0</td>\n",
              "      <td>26892.0</td>\n",
              "      <td>28232.0</td>\n",
              "      <td>29520.0</td>\n",
              "      <td>30705.0</td>\n",
              "      <td>31777.0</td>\n",
              "      <td>32771.0</td>\n",
              "      <td>33737.0</td>\n",
              "      <td>34818.0</td>\n",
              "      <td>36067.0</td>\n",
              "      <td>37500.0</td>\n",
              "      <td>39114.0</td>\n",
              "      <td>40867.0</td>\n",
              "      <td>42706.0</td>\n",
              "      <td>44600.0</td>\n",
              "      <td>46517.0</td>\n",
              "      <td>48455.0</td>\n",
              "      <td>50434.0</td>\n",
              "      <td>52448.0</td>\n",
              "      <td>54509.0</td>\n",
              "      <td>56671.0</td>\n",
              "      <td>58888.0</td>\n",
              "      <td>60971.0</td>\n",
              "      <td>62677.0</td>\n",
              "      <td>63850.0</td>\n",
              "      <td>64360.0</td>\n",
              "      <td>64327.0</td>\n",
              "      <td>64142.0</td>\n",
              "      <td>64370.0</td>\n",
              "      <td>65390.0</td>\n",
              "      <td>67341.0</td>\n",
              "      <td>70049.0</td>\n",
              "      <td>73182.0</td>\n",
              "      <td>76244.0</td>\n",
              "      <td>78867.0</td>\n",
              "      <td>80993.0</td>\n",
              "      <td>82684.0</td>\n",
              "      <td>83862.0</td>\n",
              "      <td>84463.0</td>\n",
              "      <td>84449.0</td>\n",
              "      <td>83747.0</td>\n",
              "      <td>82427.0</td>\n",
              "      <td>80774.0</td>\n",
              "      <td>79213.0</td>\n",
              "      <td>78011.0</td>\n",
              "      <td>77297.0</td>\n",
              "      <td>77001.0</td>\n",
              "      <td>77006.0</td>\n",
              "      <td>77142.0</td>\n",
              "      <td>NaN</td>\n",
              "    </tr>\n",
              "  </tbody>\n",
              "</table>\n",
              "</div>"
            ],
            "text/plain": [
              "  Country Name Country Code     Indicator Name  ...        2018        2019  2020\n",
              "0        Aruba          ABW  Population, total  ...    105845.0    106314.0   NaN\n",
              "1  Afghanistan          AFG  Population, total  ...  37172386.0  38041754.0   NaN\n",
              "2       Angola          AGO  Population, total  ...  30809762.0  31825295.0   NaN\n",
              "3      Albania          ALB  Population, total  ...   2866376.0   2854191.0   NaN\n",
              "4      Andorra          AND  Population, total  ...     77006.0     77142.0   NaN\n",
              "\n",
              "[5 rows x 65 columns]"
            ]
          },
          "metadata": {
            "tags": []
          },
          "execution_count": 6
        }
      ]
    },
    {
      "cell_type": "markdown",
      "metadata": {
        "id": "CxHdleAXyN7D"
      },
      "source": [
        "\n",
        "\n",
        "\n",
        "\n",
        "#  TASK 1.II - clean the data\n",
        "\n",
        "how many rows and columns are in the data? how many missing values? missing values should be removed. If there are not many observations (=countries) with missing data the easiest solution is to remove the countries entirely. Use the dataframe method ```dropna``` to remove them. Otherwise, if you are brave, you can input values using the dataframe method fillna (good luck!). \n",
        "\n",
        "\n",
        "print the number of countries and the length of the timeline using the line of code provided _before_ and _after_ cleaning. State the percentage of observations lost\n",
        "\n",
        "## shortcut: \n",
        "\n",
        "You can download the dataframe with missing values removed by row [here](https://github.com/fedhere/MLPNS2021/tree/main/midterm): the file is called  _country_pop_clean.csv_"
      ]
    },
    {
      "cell_type": "code",
      "metadata": {
        "colab": {
          "base_uri": "https://localhost:8080/"
        },
        "id": "s0oJ3vUNU2A0",
        "outputId": "daaa92fb-2e15-40f0-ae19-263c79c80622"
      },
      "source": [
        "print(\"rows: {:d} \\ncolumns: {:d}\".format(*datain.shape))"
      ],
      "execution_count": 7,
      "outputs": [
        {
          "output_type": "stream",
          "text": [
            "rows: 264 \n",
            "columns: 65\n"
          ],
          "name": "stdout"
        }
      ]
    },
    {
      "cell_type": "code",
      "metadata": {
        "id": "c0gN8442WlZH"
      },
      "source": [
        "#mv = 0 # missing values\n",
        "#for i in range(len(datain)):\n",
        "#  for y in datain.columns[4:]:\n",
        "#    if pd.isna(datain.iloc[i][y]):\n",
        "#      mv += 1 \n",
        "\n",
        "#isnull.sum"
      ],
      "execution_count": 8,
      "outputs": []
    },
    {
      "cell_type": "code",
      "metadata": {
        "id": "QYEp5Uynvzxr"
      },
      "source": [
        "missing = pd.isnull(datain).sum(axis = 1)"
      ],
      "execution_count": 9,
      "outputs": []
    },
    {
      "cell_type": "code",
      "metadata": {
        "colab": {
          "base_uri": "https://localhost:8080/"
        },
        "id": "ytEz540SxOcL",
        "outputId": "0f62d9ce-e09c-4f9c-e4e5-c79784391a5b"
      },
      "source": [
        "missing.describe()"
      ],
      "execution_count": 10,
      "outputs": [
        {
          "output_type": "execute_result",
          "data": {
            "text/plain": [
              "count    264.000000\n",
              "mean       1.640152\n",
              "std        5.088126\n",
              "min        1.000000\n",
              "25%        1.000000\n",
              "50%        1.000000\n",
              "75%        1.000000\n",
              "max       61.000000\n",
              "dtype: float64"
            ]
          },
          "metadata": {
            "tags": []
          },
          "execution_count": 10
        }
      ]
    },
    {
      "cell_type": "code",
      "metadata": {
        "id": "ufOQPcFcxTlU"
      },
      "source": [
        "#datain2 = datain.dropna(axis = 0, datain[missing >= 5])"
      ],
      "execution_count": 11,
      "outputs": []
    },
    {
      "cell_type": "code",
      "metadata": {
        "colab": {
          "base_uri": "https://localhost:8080/",
          "height": 383
        },
        "id": "ssMFdEPnyuou",
        "outputId": "0ea6fb4c-65de-4dc3-9356-dfa4f096f00c"
      },
      "source": [
        "datain[missing >= 5]"
      ],
      "execution_count": 12,
      "outputs": [
        {
          "output_type": "execute_result",
          "data": {
            "text/html": [
              "<div>\n",
              "<style scoped>\n",
              "    .dataframe tbody tr th:only-of-type {\n",
              "        vertical-align: middle;\n",
              "    }\n",
              "\n",
              "    .dataframe tbody tr th {\n",
              "        vertical-align: top;\n",
              "    }\n",
              "\n",
              "    .dataframe thead th {\n",
              "        text-align: right;\n",
              "    }\n",
              "</style>\n",
              "<table border=\"1\" class=\"dataframe\">\n",
              "  <thead>\n",
              "    <tr style=\"text-align: right;\">\n",
              "      <th></th>\n",
              "      <th>Country Name</th>\n",
              "      <th>Country Code</th>\n",
              "      <th>Indicator Name</th>\n",
              "      <th>Indicator Code</th>\n",
              "      <th>1960</th>\n",
              "      <th>1961</th>\n",
              "      <th>1962</th>\n",
              "      <th>1963</th>\n",
              "      <th>1964</th>\n",
              "      <th>1965</th>\n",
              "      <th>1966</th>\n",
              "      <th>1967</th>\n",
              "      <th>1968</th>\n",
              "      <th>1969</th>\n",
              "      <th>1970</th>\n",
              "      <th>1971</th>\n",
              "      <th>1972</th>\n",
              "      <th>1973</th>\n",
              "      <th>1974</th>\n",
              "      <th>1975</th>\n",
              "      <th>1976</th>\n",
              "      <th>1977</th>\n",
              "      <th>1978</th>\n",
              "      <th>1979</th>\n",
              "      <th>1980</th>\n",
              "      <th>1981</th>\n",
              "      <th>1982</th>\n",
              "      <th>1983</th>\n",
              "      <th>1984</th>\n",
              "      <th>1985</th>\n",
              "      <th>1986</th>\n",
              "      <th>1987</th>\n",
              "      <th>1988</th>\n",
              "      <th>1989</th>\n",
              "      <th>1990</th>\n",
              "      <th>1991</th>\n",
              "      <th>1992</th>\n",
              "      <th>1993</th>\n",
              "      <th>1994</th>\n",
              "      <th>1995</th>\n",
              "      <th>1996</th>\n",
              "      <th>1997</th>\n",
              "      <th>1998</th>\n",
              "      <th>1999</th>\n",
              "      <th>2000</th>\n",
              "      <th>2001</th>\n",
              "      <th>2002</th>\n",
              "      <th>2003</th>\n",
              "      <th>2004</th>\n",
              "      <th>2005</th>\n",
              "      <th>2006</th>\n",
              "      <th>2007</th>\n",
              "      <th>2008</th>\n",
              "      <th>2009</th>\n",
              "      <th>2010</th>\n",
              "      <th>2011</th>\n",
              "      <th>2012</th>\n",
              "      <th>2013</th>\n",
              "      <th>2014</th>\n",
              "      <th>2015</th>\n",
              "      <th>2016</th>\n",
              "      <th>2017</th>\n",
              "      <th>2018</th>\n",
              "      <th>2019</th>\n",
              "      <th>2020</th>\n",
              "    </tr>\n",
              "  </thead>\n",
              "  <tbody>\n",
              "    <tr>\n",
              "      <th>67</th>\n",
              "      <td>Eritrea</td>\n",
              "      <td>ERI</td>\n",
              "      <td>Population, total</td>\n",
              "      <td>SP.POP.TOTL</td>\n",
              "      <td>1007590.0</td>\n",
              "      <td>1033328.0</td>\n",
              "      <td>1060486.0</td>\n",
              "      <td>1088854.0</td>\n",
              "      <td>1118159.0</td>\n",
              "      <td>1148189.0</td>\n",
              "      <td>1178875.0</td>\n",
              "      <td>1210302.0</td>\n",
              "      <td>1242635.0</td>\n",
              "      <td>1276123.0</td>\n",
              "      <td>1310945.0</td>\n",
              "      <td>1347176.0</td>\n",
              "      <td>1384797.0</td>\n",
              "      <td>1423761.0</td>\n",
              "      <td>1463983.0</td>\n",
              "      <td>1505439.0</td>\n",
              "      <td>1547975.0</td>\n",
              "      <td>1591620.0</td>\n",
              "      <td>1636769.0</td>\n",
              "      <td>1683939.0</td>\n",
              "      <td>1733416.0</td>\n",
              "      <td>1784561.0</td>\n",
              "      <td>1836823.0</td>\n",
              "      <td>1890558.0</td>\n",
              "      <td>1946305.0</td>\n",
              "      <td>2003937.0</td>\n",
              "      <td>2064794.0</td>\n",
              "      <td>2127422.0</td>\n",
              "      <td>2185605.0</td>\n",
              "      <td>2231141.0</td>\n",
              "      <td>2258653.0</td>\n",
              "      <td>2266358.0</td>\n",
              "      <td>2257596.0</td>\n",
              "      <td>2238626.0</td>\n",
              "      <td>2218430.0</td>\n",
              "      <td>2204222.0</td>\n",
              "      <td>2196464.0</td>\n",
              "      <td>2195179.0</td>\n",
              "      <td>2206432.0</td>\n",
              "      <td>2237405.0</td>\n",
              "      <td>2292416.0</td>\n",
              "      <td>2374722.0</td>\n",
              "      <td>2481058.0</td>\n",
              "      <td>2600973.0</td>\n",
              "      <td>2719803.0</td>\n",
              "      <td>2826659.0</td>\n",
              "      <td>2918205.0</td>\n",
              "      <td>2996536.0</td>\n",
              "      <td>3062779.0</td>\n",
              "      <td>3119920.0</td>\n",
              "      <td>3170435.0</td>\n",
              "      <td>3213972.0</td>\n",
              "      <td>NaN</td>\n",
              "      <td>NaN</td>\n",
              "      <td>NaN</td>\n",
              "      <td>NaN</td>\n",
              "      <td>NaN</td>\n",
              "      <td>NaN</td>\n",
              "      <td>NaN</td>\n",
              "      <td>NaN</td>\n",
              "      <td>NaN</td>\n",
              "    </tr>\n",
              "    <tr>\n",
              "      <th>108</th>\n",
              "      <td>Not classified</td>\n",
              "      <td>INX</td>\n",
              "      <td>Population, total</td>\n",
              "      <td>SP.POP.TOTL</td>\n",
              "      <td>NaN</td>\n",
              "      <td>NaN</td>\n",
              "      <td>NaN</td>\n",
              "      <td>NaN</td>\n",
              "      <td>NaN</td>\n",
              "      <td>NaN</td>\n",
              "      <td>NaN</td>\n",
              "      <td>NaN</td>\n",
              "      <td>NaN</td>\n",
              "      <td>NaN</td>\n",
              "      <td>NaN</td>\n",
              "      <td>NaN</td>\n",
              "      <td>NaN</td>\n",
              "      <td>NaN</td>\n",
              "      <td>NaN</td>\n",
              "      <td>NaN</td>\n",
              "      <td>NaN</td>\n",
              "      <td>NaN</td>\n",
              "      <td>NaN</td>\n",
              "      <td>NaN</td>\n",
              "      <td>NaN</td>\n",
              "      <td>NaN</td>\n",
              "      <td>NaN</td>\n",
              "      <td>NaN</td>\n",
              "      <td>NaN</td>\n",
              "      <td>NaN</td>\n",
              "      <td>NaN</td>\n",
              "      <td>NaN</td>\n",
              "      <td>NaN</td>\n",
              "      <td>NaN</td>\n",
              "      <td>NaN</td>\n",
              "      <td>NaN</td>\n",
              "      <td>NaN</td>\n",
              "      <td>NaN</td>\n",
              "      <td>NaN</td>\n",
              "      <td>NaN</td>\n",
              "      <td>NaN</td>\n",
              "      <td>NaN</td>\n",
              "      <td>NaN</td>\n",
              "      <td>NaN</td>\n",
              "      <td>NaN</td>\n",
              "      <td>NaN</td>\n",
              "      <td>NaN</td>\n",
              "      <td>NaN</td>\n",
              "      <td>NaN</td>\n",
              "      <td>NaN</td>\n",
              "      <td>NaN</td>\n",
              "      <td>NaN</td>\n",
              "      <td>NaN</td>\n",
              "      <td>NaN</td>\n",
              "      <td>NaN</td>\n",
              "      <td>NaN</td>\n",
              "      <td>NaN</td>\n",
              "      <td>NaN</td>\n",
              "      <td>NaN</td>\n",
              "      <td>NaN</td>\n",
              "      <td>NaN</td>\n",
              "      <td>NaN</td>\n",
              "      <td>NaN</td>\n",
              "      <td>NaN</td>\n",
              "      <td>NaN</td>\n",
              "    </tr>\n",
              "    <tr>\n",
              "      <th>194</th>\n",
              "      <td>West Bank and Gaza</td>\n",
              "      <td>PSE</td>\n",
              "      <td>Population, total</td>\n",
              "      <td>SP.POP.TOTL</td>\n",
              "      <td>NaN</td>\n",
              "      <td>NaN</td>\n",
              "      <td>NaN</td>\n",
              "      <td>NaN</td>\n",
              "      <td>NaN</td>\n",
              "      <td>NaN</td>\n",
              "      <td>NaN</td>\n",
              "      <td>NaN</td>\n",
              "      <td>NaN</td>\n",
              "      <td>NaN</td>\n",
              "      <td>NaN</td>\n",
              "      <td>NaN</td>\n",
              "      <td>NaN</td>\n",
              "      <td>NaN</td>\n",
              "      <td>NaN</td>\n",
              "      <td>NaN</td>\n",
              "      <td>NaN</td>\n",
              "      <td>NaN</td>\n",
              "      <td>NaN</td>\n",
              "      <td>NaN</td>\n",
              "      <td>NaN</td>\n",
              "      <td>NaN</td>\n",
              "      <td>NaN</td>\n",
              "      <td>NaN</td>\n",
              "      <td>NaN</td>\n",
              "      <td>NaN</td>\n",
              "      <td>NaN</td>\n",
              "      <td>NaN</td>\n",
              "      <td>NaN</td>\n",
              "      <td>NaN</td>\n",
              "      <td>1978248.0</td>\n",
              "      <td>2068845.0</td>\n",
              "      <td>2163591.0</td>\n",
              "      <td>2262676.0</td>\n",
              "      <td>2366298.0</td>\n",
              "      <td>2474666.0</td>\n",
              "      <td>2587997.0</td>\n",
              "      <td>2706518.0</td>\n",
              "      <td>2776568.0</td>\n",
              "      <td>2848431.0</td>\n",
              "      <td>2922153.0</td>\n",
              "      <td>2997784.0</td>\n",
              "      <td>3075373.0</td>\n",
              "      <td>3154969.0</td>\n",
              "      <td>3236626.0</td>\n",
              "      <td>3320396.0</td>\n",
              "      <td>3406334.0</td>\n",
              "      <td>3494496.0</td>\n",
              "      <td>3591977.0</td>\n",
              "      <td>3689099.0</td>\n",
              "      <td>3786161.0</td>\n",
              "      <td>3882986.0</td>\n",
              "      <td>3979998.0</td>\n",
              "      <td>4076708.0</td>\n",
              "      <td>4173398.0</td>\n",
              "      <td>4270092.0</td>\n",
              "      <td>4367088.0</td>\n",
              "      <td>4454805.0</td>\n",
              "      <td>4569087.0</td>\n",
              "      <td>4685306.0</td>\n",
              "      <td>NaN</td>\n",
              "    </tr>\n",
              "    <tr>\n",
              "      <th>212</th>\n",
              "      <td>Serbia</td>\n",
              "      <td>SRB</td>\n",
              "      <td>Population, total</td>\n",
              "      <td>SP.POP.TOTL</td>\n",
              "      <td>NaN</td>\n",
              "      <td>NaN</td>\n",
              "      <td>NaN</td>\n",
              "      <td>NaN</td>\n",
              "      <td>NaN</td>\n",
              "      <td>NaN</td>\n",
              "      <td>NaN</td>\n",
              "      <td>NaN</td>\n",
              "      <td>NaN</td>\n",
              "      <td>NaN</td>\n",
              "      <td>NaN</td>\n",
              "      <td>NaN</td>\n",
              "      <td>NaN</td>\n",
              "      <td>NaN</td>\n",
              "      <td>NaN</td>\n",
              "      <td>NaN</td>\n",
              "      <td>NaN</td>\n",
              "      <td>NaN</td>\n",
              "      <td>NaN</td>\n",
              "      <td>NaN</td>\n",
              "      <td>NaN</td>\n",
              "      <td>NaN</td>\n",
              "      <td>NaN</td>\n",
              "      <td>NaN</td>\n",
              "      <td>NaN</td>\n",
              "      <td>NaN</td>\n",
              "      <td>NaN</td>\n",
              "      <td>NaN</td>\n",
              "      <td>NaN</td>\n",
              "      <td>NaN</td>\n",
              "      <td>7586000.0</td>\n",
              "      <td>7595636.0</td>\n",
              "      <td>7646424.0</td>\n",
              "      <td>7699307.0</td>\n",
              "      <td>7734639.0</td>\n",
              "      <td>7625357.0</td>\n",
              "      <td>7617794.0</td>\n",
              "      <td>7596501.0</td>\n",
              "      <td>7567745.0</td>\n",
              "      <td>7540401.0</td>\n",
              "      <td>7516346.0</td>\n",
              "      <td>7503433.0</td>\n",
              "      <td>7496522.0</td>\n",
              "      <td>7480591.0</td>\n",
              "      <td>7463157.0</td>\n",
              "      <td>7440769.0</td>\n",
              "      <td>7411569.0</td>\n",
              "      <td>7381579.0</td>\n",
              "      <td>7350222.0</td>\n",
              "      <td>7320807.0</td>\n",
              "      <td>7291436.0</td>\n",
              "      <td>7234099.0</td>\n",
              "      <td>7199077.0</td>\n",
              "      <td>7164132.0</td>\n",
              "      <td>7130576.0</td>\n",
              "      <td>7095383.0</td>\n",
              "      <td>7058322.0</td>\n",
              "      <td>7020858.0</td>\n",
              "      <td>6982604.0</td>\n",
              "      <td>6944975.0</td>\n",
              "      <td>NaN</td>\n",
              "    </tr>\n",
              "    <tr>\n",
              "      <th>223</th>\n",
              "      <td>Sint Maarten (Dutch part)</td>\n",
              "      <td>SXM</td>\n",
              "      <td>Population, total</td>\n",
              "      <td>SP.POP.TOTL</td>\n",
              "      <td>NaN</td>\n",
              "      <td>NaN</td>\n",
              "      <td>NaN</td>\n",
              "      <td>NaN</td>\n",
              "      <td>NaN</td>\n",
              "      <td>NaN</td>\n",
              "      <td>NaN</td>\n",
              "      <td>NaN</td>\n",
              "      <td>NaN</td>\n",
              "      <td>NaN</td>\n",
              "      <td>NaN</td>\n",
              "      <td>NaN</td>\n",
              "      <td>NaN</td>\n",
              "      <td>NaN</td>\n",
              "      <td>NaN</td>\n",
              "      <td>NaN</td>\n",
              "      <td>NaN</td>\n",
              "      <td>NaN</td>\n",
              "      <td>NaN</td>\n",
              "      <td>NaN</td>\n",
              "      <td>NaN</td>\n",
              "      <td>NaN</td>\n",
              "      <td>NaN</td>\n",
              "      <td>NaN</td>\n",
              "      <td>NaN</td>\n",
              "      <td>NaN</td>\n",
              "      <td>NaN</td>\n",
              "      <td>NaN</td>\n",
              "      <td>NaN</td>\n",
              "      <td>NaN</td>\n",
              "      <td>NaN</td>\n",
              "      <td>NaN</td>\n",
              "      <td>NaN</td>\n",
              "      <td>NaN</td>\n",
              "      <td>NaN</td>\n",
              "      <td>NaN</td>\n",
              "      <td>NaN</td>\n",
              "      <td>NaN</td>\n",
              "      <td>31240.0</td>\n",
              "      <td>31084.0</td>\n",
              "      <td>30519.0</td>\n",
              "      <td>30600.0</td>\n",
              "      <td>30777.0</td>\n",
              "      <td>31472.0</td>\n",
              "      <td>32488.0</td>\n",
              "      <td>33011.0</td>\n",
              "      <td>33441.0</td>\n",
              "      <td>33811.0</td>\n",
              "      <td>33964.0</td>\n",
              "      <td>34238.0</td>\n",
              "      <td>34056.0</td>\n",
              "      <td>33435.0</td>\n",
              "      <td>34640.0</td>\n",
              "      <td>36607.0</td>\n",
              "      <td>37685.0</td>\n",
              "      <td>38825.0</td>\n",
              "      <td>39969.0</td>\n",
              "      <td>40574.0</td>\n",
              "      <td>40654.0</td>\n",
              "      <td>40733.0</td>\n",
              "      <td>NaN</td>\n",
              "    </tr>\n",
              "  </tbody>\n",
              "</table>\n",
              "</div>"
            ],
            "text/plain": [
              "                  Country Name Country Code  ...       2019 2020\n",
              "67                     Eritrea          ERI  ...        NaN  NaN\n",
              "108             Not classified          INX  ...        NaN  NaN\n",
              "194         West Bank and Gaza          PSE  ...  4685306.0  NaN\n",
              "212                     Serbia          SRB  ...  6944975.0  NaN\n",
              "223  Sint Maarten (Dutch part)          SXM  ...    40733.0  NaN\n",
              "\n",
              "[5 rows x 65 columns]"
            ]
          },
          "metadata": {
            "tags": []
          },
          "execution_count": 12
        }
      ]
    },
    {
      "cell_type": "code",
      "metadata": {
        "id": "CMMQf4edU0tF",
        "colab": {
          "base_uri": "https://localhost:8080/"
        },
        "outputId": "2457e954-d0c2-478f-8adb-59465a6bc003"
      },
      "source": [
        "print(\"there are {} countries and {} time stamps in the data\".\n",
        "      format(*datain.shape))"
      ],
      "execution_count": 13,
      "outputs": [
        {
          "output_type": "stream",
          "text": [
            "there are 264 countries and 65 time stamps in the data\n"
          ],
          "name": "stdout"
        }
      ]
    },
    {
      "cell_type": "code",
      "metadata": {
        "id": "XHG9N1Mcsfcq",
        "colab": {
          "base_uri": "https://localhost:8080/"
        },
        "outputId": "122611d0-653d-4f1c-f698-13937146c85c"
      },
      "source": [
        "print(\"there are {} countries and {} time stamps in the cleaned data\".\n",
        "      format(*datain.shape))"
      ],
      "execution_count": 14,
      "outputs": [
        {
          "output_type": "stream",
          "text": [
            "there are 264 countries and 65 time stamps in the cleaned data\n"
          ],
          "name": "stdout"
        }
      ]
    },
    {
      "cell_type": "code",
      "metadata": {
        "id": "6d_exBHgaF4D"
      },
      "source": [
        "dataclean = pd.read_csv(\"https://raw.githubusercontent.com/fedhere/MLPNS2021/main/midterm/country_pop_clean.csv\")"
      ],
      "execution_count": 15,
      "outputs": []
    },
    {
      "cell_type": "code",
      "metadata": {
        "colab": {
          "base_uri": "https://localhost:8080/",
          "height": 232
        },
        "id": "F05-ONJgaNZT",
        "outputId": "cca5438b-9d8a-4523-c5aa-bbf11762e6a2"
      },
      "source": [
        "dataclean.head()"
      ],
      "execution_count": 16,
      "outputs": [
        {
          "output_type": "execute_result",
          "data": {
            "text/html": [
              "<div>\n",
              "<style scoped>\n",
              "    .dataframe tbody tr th:only-of-type {\n",
              "        vertical-align: middle;\n",
              "    }\n",
              "\n",
              "    .dataframe tbody tr th {\n",
              "        vertical-align: top;\n",
              "    }\n",
              "\n",
              "    .dataframe thead th {\n",
              "        text-align: right;\n",
              "    }\n",
              "</style>\n",
              "<table border=\"1\" class=\"dataframe\">\n",
              "  <thead>\n",
              "    <tr style=\"text-align: right;\">\n",
              "      <th></th>\n",
              "      <th>Data Source</th>\n",
              "      <th>1960.0</th>\n",
              "      <th>1961.0</th>\n",
              "      <th>1962.0</th>\n",
              "      <th>1963.0</th>\n",
              "      <th>1964.0</th>\n",
              "      <th>1965.0</th>\n",
              "      <th>1966.0</th>\n",
              "      <th>1967.0</th>\n",
              "      <th>1968.0</th>\n",
              "      <th>1969.0</th>\n",
              "      <th>1970.0</th>\n",
              "      <th>1971.0</th>\n",
              "      <th>1972.0</th>\n",
              "      <th>1973.0</th>\n",
              "      <th>1974.0</th>\n",
              "      <th>1975.0</th>\n",
              "      <th>1976.0</th>\n",
              "      <th>1977.0</th>\n",
              "      <th>1978.0</th>\n",
              "      <th>1979.0</th>\n",
              "      <th>1980.0</th>\n",
              "      <th>1981.0</th>\n",
              "      <th>1982.0</th>\n",
              "      <th>1983.0</th>\n",
              "      <th>1984.0</th>\n",
              "      <th>1985.0</th>\n",
              "      <th>1986.0</th>\n",
              "      <th>1987.0</th>\n",
              "      <th>1988.0</th>\n",
              "      <th>1989.0</th>\n",
              "      <th>1990.0</th>\n",
              "      <th>1991.0</th>\n",
              "      <th>1992.0</th>\n",
              "      <th>1993.0</th>\n",
              "      <th>1994.0</th>\n",
              "      <th>1995.0</th>\n",
              "      <th>1996.0</th>\n",
              "      <th>1997.0</th>\n",
              "      <th>1998.0</th>\n",
              "      <th>1999.0</th>\n",
              "      <th>2000.0</th>\n",
              "      <th>2001.0</th>\n",
              "      <th>2002.0</th>\n",
              "      <th>2003.0</th>\n",
              "      <th>2004.0</th>\n",
              "      <th>2005.0</th>\n",
              "      <th>2006.0</th>\n",
              "      <th>2007.0</th>\n",
              "      <th>2008.0</th>\n",
              "      <th>2009.0</th>\n",
              "      <th>2010.0</th>\n",
              "      <th>2011.0</th>\n",
              "      <th>2012.0</th>\n",
              "      <th>2013.0</th>\n",
              "      <th>2014.0</th>\n",
              "      <th>2015.0</th>\n",
              "      <th>2016.0</th>\n",
              "      <th>2017.0</th>\n",
              "      <th>2018.0</th>\n",
              "      <th>2019.0</th>\n",
              "    </tr>\n",
              "  </thead>\n",
              "  <tbody>\n",
              "    <tr>\n",
              "      <th>0</th>\n",
              "      <td>Aruba</td>\n",
              "      <td>54211.0</td>\n",
              "      <td>55438.0</td>\n",
              "      <td>56225.0</td>\n",
              "      <td>56695.0</td>\n",
              "      <td>57032.0</td>\n",
              "      <td>57360.0</td>\n",
              "      <td>57715.0</td>\n",
              "      <td>58055.0</td>\n",
              "      <td>58386.0</td>\n",
              "      <td>58726.0</td>\n",
              "      <td>59063.0</td>\n",
              "      <td>59440.0</td>\n",
              "      <td>59840.0</td>\n",
              "      <td>60243.0</td>\n",
              "      <td>60528.0</td>\n",
              "      <td>60657.0</td>\n",
              "      <td>60586.0</td>\n",
              "      <td>60366.0</td>\n",
              "      <td>60103.0</td>\n",
              "      <td>59980.0</td>\n",
              "      <td>60096.0</td>\n",
              "      <td>60567.0</td>\n",
              "      <td>61345.0</td>\n",
              "      <td>62201.0</td>\n",
              "      <td>62836.0</td>\n",
              "      <td>63026.0</td>\n",
              "      <td>62644.0</td>\n",
              "      <td>61833.0</td>\n",
              "      <td>61079.0</td>\n",
              "      <td>61032.0</td>\n",
              "      <td>62149.0</td>\n",
              "      <td>64622.0</td>\n",
              "      <td>68235.0</td>\n",
              "      <td>72504.0</td>\n",
              "      <td>76700.0</td>\n",
              "      <td>80324.0</td>\n",
              "      <td>83200.0</td>\n",
              "      <td>85451.0</td>\n",
              "      <td>87277.0</td>\n",
              "      <td>89005.0</td>\n",
              "      <td>90853.0</td>\n",
              "      <td>92898.0</td>\n",
              "      <td>94992.0</td>\n",
              "      <td>97017.0</td>\n",
              "      <td>98737.0</td>\n",
              "      <td>100031.0</td>\n",
              "      <td>100834.0</td>\n",
              "      <td>101222.0</td>\n",
              "      <td>101358.0</td>\n",
              "      <td>101455.0</td>\n",
              "      <td>101669.0</td>\n",
              "      <td>102046.0</td>\n",
              "      <td>102560.0</td>\n",
              "      <td>103159.0</td>\n",
              "      <td>103774.0</td>\n",
              "      <td>104341.0</td>\n",
              "      <td>104872.0</td>\n",
              "      <td>105366.0</td>\n",
              "      <td>105845.0</td>\n",
              "      <td>106314.0</td>\n",
              "    </tr>\n",
              "    <tr>\n",
              "      <th>1</th>\n",
              "      <td>Afghanistan</td>\n",
              "      <td>8996973.0</td>\n",
              "      <td>9169410.0</td>\n",
              "      <td>9351441.0</td>\n",
              "      <td>9543205.0</td>\n",
              "      <td>9744781.0</td>\n",
              "      <td>9956320.0</td>\n",
              "      <td>10174836.0</td>\n",
              "      <td>10399926.0</td>\n",
              "      <td>10637063.0</td>\n",
              "      <td>10893776.0</td>\n",
              "      <td>11173642.0</td>\n",
              "      <td>11475445.0</td>\n",
              "      <td>11791215.0</td>\n",
              "      <td>12108963.0</td>\n",
              "      <td>12412950.0</td>\n",
              "      <td>12689160.0</td>\n",
              "      <td>12943093.0</td>\n",
              "      <td>13171306.0</td>\n",
              "      <td>13341198.0</td>\n",
              "      <td>13411056.0</td>\n",
              "      <td>13356511.0</td>\n",
              "      <td>13171673.0</td>\n",
              "      <td>12882528.0</td>\n",
              "      <td>12537730.0</td>\n",
              "      <td>12204292.0</td>\n",
              "      <td>11938208.0</td>\n",
              "      <td>11736179.0</td>\n",
              "      <td>11604534.0</td>\n",
              "      <td>11618005.0</td>\n",
              "      <td>11868877.0</td>\n",
              "      <td>12412308.0</td>\n",
              "      <td>13299017.0</td>\n",
              "      <td>14485546.0</td>\n",
              "      <td>15816603.0</td>\n",
              "      <td>17075727.0</td>\n",
              "      <td>18110657.0</td>\n",
              "      <td>18853437.0</td>\n",
              "      <td>19357126.0</td>\n",
              "      <td>19737765.0</td>\n",
              "      <td>20170844.0</td>\n",
              "      <td>20779953.0</td>\n",
              "      <td>21606988.0</td>\n",
              "      <td>22600770.0</td>\n",
              "      <td>23680871.0</td>\n",
              "      <td>24726684.0</td>\n",
              "      <td>25654277.0</td>\n",
              "      <td>26433049.0</td>\n",
              "      <td>27100536.0</td>\n",
              "      <td>27722276.0</td>\n",
              "      <td>28394813.0</td>\n",
              "      <td>29185507.0</td>\n",
              "      <td>30117413.0</td>\n",
              "      <td>31161376.0</td>\n",
              "      <td>32269589.0</td>\n",
              "      <td>33370794.0</td>\n",
              "      <td>34413603.0</td>\n",
              "      <td>35383128.0</td>\n",
              "      <td>36296400.0</td>\n",
              "      <td>37172386.0</td>\n",
              "      <td>38041754.0</td>\n",
              "    </tr>\n",
              "    <tr>\n",
              "      <th>2</th>\n",
              "      <td>Angola</td>\n",
              "      <td>5454933.0</td>\n",
              "      <td>5531472.0</td>\n",
              "      <td>5608539.0</td>\n",
              "      <td>5679458.0</td>\n",
              "      <td>5735044.0</td>\n",
              "      <td>5770570.0</td>\n",
              "      <td>5781214.0</td>\n",
              "      <td>5774243.0</td>\n",
              "      <td>5771652.0</td>\n",
              "      <td>5803254.0</td>\n",
              "      <td>5890365.0</td>\n",
              "      <td>6040777.0</td>\n",
              "      <td>6248552.0</td>\n",
              "      <td>6496962.0</td>\n",
              "      <td>6761380.0</td>\n",
              "      <td>7024000.0</td>\n",
              "      <td>7279509.0</td>\n",
              "      <td>7533735.0</td>\n",
              "      <td>7790707.0</td>\n",
              "      <td>8058067.0</td>\n",
              "      <td>8341289.0</td>\n",
              "      <td>8640446.0</td>\n",
              "      <td>8952950.0</td>\n",
              "      <td>9278096.0</td>\n",
              "      <td>9614754.0</td>\n",
              "      <td>9961997.0</td>\n",
              "      <td>10320111.0</td>\n",
              "      <td>10689250.0</td>\n",
              "      <td>11068050.0</td>\n",
              "      <td>11454777.0</td>\n",
              "      <td>11848386.0</td>\n",
              "      <td>12248901.0</td>\n",
              "      <td>12657366.0</td>\n",
              "      <td>13075049.0</td>\n",
              "      <td>13503747.0</td>\n",
              "      <td>13945206.0</td>\n",
              "      <td>14400719.0</td>\n",
              "      <td>14871570.0</td>\n",
              "      <td>15359601.0</td>\n",
              "      <td>15866869.0</td>\n",
              "      <td>16395473.0</td>\n",
              "      <td>16945753.0</td>\n",
              "      <td>17519417.0</td>\n",
              "      <td>18121479.0</td>\n",
              "      <td>18758145.0</td>\n",
              "      <td>19433602.0</td>\n",
              "      <td>20149901.0</td>\n",
              "      <td>20905363.0</td>\n",
              "      <td>21695634.0</td>\n",
              "      <td>22514281.0</td>\n",
              "      <td>23356246.0</td>\n",
              "      <td>24220661.0</td>\n",
              "      <td>25107931.0</td>\n",
              "      <td>26015780.0</td>\n",
              "      <td>26941779.0</td>\n",
              "      <td>27884381.0</td>\n",
              "      <td>28842484.0</td>\n",
              "      <td>29816748.0</td>\n",
              "      <td>30809762.0</td>\n",
              "      <td>31825295.0</td>\n",
              "    </tr>\n",
              "    <tr>\n",
              "      <th>3</th>\n",
              "      <td>Albania</td>\n",
              "      <td>1608800.0</td>\n",
              "      <td>1659800.0</td>\n",
              "      <td>1711319.0</td>\n",
              "      <td>1762621.0</td>\n",
              "      <td>1814135.0</td>\n",
              "      <td>1864791.0</td>\n",
              "      <td>1914573.0</td>\n",
              "      <td>1965598.0</td>\n",
              "      <td>2022272.0</td>\n",
              "      <td>2081695.0</td>\n",
              "      <td>2135479.0</td>\n",
              "      <td>2187853.0</td>\n",
              "      <td>2243126.0</td>\n",
              "      <td>2296752.0</td>\n",
              "      <td>2350124.0</td>\n",
              "      <td>2404831.0</td>\n",
              "      <td>2458526.0</td>\n",
              "      <td>2513546.0</td>\n",
              "      <td>2566266.0</td>\n",
              "      <td>2617832.0</td>\n",
              "      <td>2671997.0</td>\n",
              "      <td>2726056.0</td>\n",
              "      <td>2784278.0</td>\n",
              "      <td>2843960.0</td>\n",
              "      <td>2904429.0</td>\n",
              "      <td>2964762.0</td>\n",
              "      <td>3022635.0</td>\n",
              "      <td>3083605.0</td>\n",
              "      <td>3142336.0</td>\n",
              "      <td>3227943.0</td>\n",
              "      <td>3286542.0</td>\n",
              "      <td>3266790.0</td>\n",
              "      <td>3247039.0</td>\n",
              "      <td>3227287.0</td>\n",
              "      <td>3207536.0</td>\n",
              "      <td>3187784.0</td>\n",
              "      <td>3168033.0</td>\n",
              "      <td>3148281.0</td>\n",
              "      <td>3128530.0</td>\n",
              "      <td>3108778.0</td>\n",
              "      <td>3089027.0</td>\n",
              "      <td>3060173.0</td>\n",
              "      <td>3051010.0</td>\n",
              "      <td>3039616.0</td>\n",
              "      <td>3026939.0</td>\n",
              "      <td>3011487.0</td>\n",
              "      <td>2992547.0</td>\n",
              "      <td>2970017.0</td>\n",
              "      <td>2947314.0</td>\n",
              "      <td>2927519.0</td>\n",
              "      <td>2913021.0</td>\n",
              "      <td>2905195.0</td>\n",
              "      <td>2900401.0</td>\n",
              "      <td>2895092.0</td>\n",
              "      <td>2889104.0</td>\n",
              "      <td>2880703.0</td>\n",
              "      <td>2876101.0</td>\n",
              "      <td>2873457.0</td>\n",
              "      <td>2866376.0</td>\n",
              "      <td>2854191.0</td>\n",
              "    </tr>\n",
              "    <tr>\n",
              "      <th>4</th>\n",
              "      <td>Andorra</td>\n",
              "      <td>13411.0</td>\n",
              "      <td>14375.0</td>\n",
              "      <td>15370.0</td>\n",
              "      <td>16412.0</td>\n",
              "      <td>17469.0</td>\n",
              "      <td>18549.0</td>\n",
              "      <td>19647.0</td>\n",
              "      <td>20758.0</td>\n",
              "      <td>21890.0</td>\n",
              "      <td>23058.0</td>\n",
              "      <td>24276.0</td>\n",
              "      <td>25559.0</td>\n",
              "      <td>26892.0</td>\n",
              "      <td>28232.0</td>\n",
              "      <td>29520.0</td>\n",
              "      <td>30705.0</td>\n",
              "      <td>31777.0</td>\n",
              "      <td>32771.0</td>\n",
              "      <td>33737.0</td>\n",
              "      <td>34818.0</td>\n",
              "      <td>36067.0</td>\n",
              "      <td>37500.0</td>\n",
              "      <td>39114.0</td>\n",
              "      <td>40867.0</td>\n",
              "      <td>42706.0</td>\n",
              "      <td>44600.0</td>\n",
              "      <td>46517.0</td>\n",
              "      <td>48455.0</td>\n",
              "      <td>50434.0</td>\n",
              "      <td>52448.0</td>\n",
              "      <td>54509.0</td>\n",
              "      <td>56671.0</td>\n",
              "      <td>58888.0</td>\n",
              "      <td>60971.0</td>\n",
              "      <td>62677.0</td>\n",
              "      <td>63850.0</td>\n",
              "      <td>64360.0</td>\n",
              "      <td>64327.0</td>\n",
              "      <td>64142.0</td>\n",
              "      <td>64370.0</td>\n",
              "      <td>65390.0</td>\n",
              "      <td>67341.0</td>\n",
              "      <td>70049.0</td>\n",
              "      <td>73182.0</td>\n",
              "      <td>76244.0</td>\n",
              "      <td>78867.0</td>\n",
              "      <td>80993.0</td>\n",
              "      <td>82684.0</td>\n",
              "      <td>83862.0</td>\n",
              "      <td>84463.0</td>\n",
              "      <td>84449.0</td>\n",
              "      <td>83747.0</td>\n",
              "      <td>82427.0</td>\n",
              "      <td>80774.0</td>\n",
              "      <td>79213.0</td>\n",
              "      <td>78011.0</td>\n",
              "      <td>77297.0</td>\n",
              "      <td>77001.0</td>\n",
              "      <td>77006.0</td>\n",
              "      <td>77142.0</td>\n",
              "    </tr>\n",
              "  </tbody>\n",
              "</table>\n",
              "</div>"
            ],
            "text/plain": [
              "   Data Source     1960.0     1961.0  ...      2017.0      2018.0      2019.0\n",
              "0        Aruba    54211.0    55438.0  ...    105366.0    105845.0    106314.0\n",
              "1  Afghanistan  8996973.0  9169410.0  ...  36296400.0  37172386.0  38041754.0\n",
              "2       Angola  5454933.0  5531472.0  ...  29816748.0  30809762.0  31825295.0\n",
              "3      Albania  1608800.0  1659800.0  ...   2873457.0   2866376.0   2854191.0\n",
              "4      Andorra    13411.0    14375.0  ...     77001.0     77006.0     77142.0\n",
              "\n",
              "[5 rows x 61 columns]"
            ]
          },
          "metadata": {
            "tags": []
          },
          "execution_count": 16
        }
      ]
    },
    {
      "cell_type": "code",
      "metadata": {
        "colab": {
          "base_uri": "https://localhost:8080/"
        },
        "id": "UzGxih5taRnf",
        "outputId": "0c78622a-e35d-42cd-d505-014f8b82d458"
      },
      "source": [
        "print(\"there are {} countries and {} time stamps in the cleaned data\".\n",
        "      format(*dataclean.shape))"
      ],
      "execution_count": 17,
      "outputs": [
        {
          "output_type": "stream",
          "text": [
            "there are 258 countries and 61 time stamps in the cleaned data\n"
          ],
          "name": "stdout"
        }
      ]
    },
    {
      "cell_type": "markdown",
      "metadata": {
        "id": "EkVKPIgZxs1r"
      },
      "source": [
        "# TASK 1.III - plot the data"
      ]
    },
    {
      "cell_type": "markdown",
      "metadata": {
        "id": "RV1H9C0LTWqO"
      },
      "source": [
        "plot the original data. plot all the time series in the same panel. Optionally, also make the plot in log-y space to better see the collection of the data. Describe what you see (you can check my plots [here](https://github.com/fedhere/MLPNS2021/blob/main/midterm/firstFigure.png) - its not a pretty figure, but it is helpful in understanding a lot of characteristivcs of the data! Your figure does not have to look identical to mine"
      ]
    },
    {
      "cell_type": "code",
      "metadata": {
        "colab": {
          "base_uri": "https://localhost:8080/",
          "height": 633
        },
        "id": "henm8qi6abrn",
        "outputId": "17e74647-a926-4e54-bf5a-eafaccd7896b"
      },
      "source": [
        "ax1 = pl.figure(figsize = (10, 10)).add_subplot(211)\n",
        "ax2 = pl.figure(figsize = (10, 10)).add_subplot(212)\n",
        "for i in range(len(dataclean)):\n",
        "  ax1.plot(np.arange(1960, 2020), dataclean.loc[i][1:], alpha = 0.3)\n",
        "  ax2.plot(np.arange(1960, 2020), dataclean.loc[i][1:], alpha = 0.3)\n",
        "ax2.set_yscale('log')\n",
        "ax1.set_title('Population Growth')\n",
        "ax1.set_xlabel('year');\n",
        "ax1.set_ylabel('population');\n",
        "ax2.set_title('Population Growth in log scale')\n",
        "ax2.set_xlabel('year');\n",
        "ax2.set_ylabel('population');\n",
        "#pl.xticks(np.arange(1960, 2020, 10))"
      ],
      "execution_count": 18,
      "outputs": [
        {
          "output_type": "display_data",
          "data": {
            "image/png": "[encoded data removed]",
            "text/plain": [
              "<Figure size 720x720 with 1 Axes>"
            ]
          },
          "metadata": {
            "tags": [],
            "needs_background": "light"
          }
        },
        {
          "output_type": "display_data",
          "data": {
            "image/png": "[encoded data removed]",
            "text/plain": [
              "<Figure size 720x720 with 1 Axes>"
            ]
          },
          "metadata": {
            "tags": [],
            "needs_background": "light"
          }
        }
      ]
    },
    {
      "cell_type": "markdown",
      "metadata": {
        "id": "O_fxUb0zghSg"
      },
      "source": [
        "Population of different countries over the years. "
      ]
    },
    {
      "cell_type": "markdown",
      "metadata": {
        "id": "-IdKfd3ks1FD"
      },
      "source": [
        "# TASK 1.IV - scale the data\n",
        "\n",
        "# Preprocessing\n",
        "Of course different countries have different population size. But we are only interested in the trends in these exercises, not in the overal size of the country. Thus before fitting a polynomial to the data you need to normalize the lightcurves: from each lightcurve you should remove the mean and divide by the standard deviation. You can do it by hand or you can use the ```preprocessing.scale``` function (there is an example of that in the slides https://slides.com/federicabianco/mlpns_4#/5/8)\n",
        "\n",
        "_Each time series should be mean 0 and stdev 1_\n",
        "\n",
        "I recommand working with a numpy array from here forward by extracting the values from the dataframe as ```X = df.values```\n",
        "\n",
        "**After scaling the data replot it.**\n",
        "\n",
        "## shortcut\n",
        "\n",
        "You can get the final dataset [here](https://github.com/fedhere/MLPNS2021/tree/main/midterm), its called _country_pop_final.csv_"
      ]
    },
    {
      "cell_type": "code",
      "metadata": {
        "id": "-9dU9I2dhrE9"
      },
      "source": [
        "data = dataclean.drop(dataclean.columns[0], axis = 1)\n"
      ],
      "execution_count": 19,
      "outputs": []
    },
    {
      "cell_type": "code",
      "metadata": {
        "colab": {
          "base_uri": "https://localhost:8080/"
        },
        "id": "d2ccupMchZ8G",
        "outputId": "0f62c952-937a-41f8-f202-faaf4ac49aac"
      },
      "source": [
        "datafinal = preprocessing.scale(data.values, axis = 1)"
      ],
      "execution_count": 20,
      "outputs": [
        {
          "output_type": "stream",
          "text": [
            "/usr/local/lib/python3.7/dist-packages/sklearn/preprocessing/_data.py:173: UserWarning: Numerical issues were encountered when centering the data and might not be solved. Dataset may contain too large values. You may need to prescale your features.\n",
            "  warnings.warn(\"Numerical issues were encountered \"\n"
          ],
          "name": "stderr"
        }
      ]
    },
    {
      "cell_type": "code",
      "metadata": {
        "colab": {
          "base_uri": "https://localhost:8080/"
        },
        "id": "iAu9-8etk-xU",
        "outputId": "f0cde329-5747-4ee9-d98e-2a65250185f9"
      },
      "source": [
        "datafinal[0,:]"
      ],
      "execution_count": 21,
      "outputs": [
        {
          "output_type": "execute_result",
          "data": {
            "text/plain": [
              "array([-1.15487934, -1.09063686, -1.04943163, -1.02482367, -1.00717924,\n",
              "       -0.99000603, -0.97141917, -0.95361767, -0.93628738, -0.91848588,\n",
              "       -0.90084145, -0.88110273, -0.86015979, -0.83905977, -0.82413793,\n",
              "       -0.81738383, -0.8211012 , -0.83261982, -0.8463898 , -0.85282976,\n",
              "       -0.8467563 , -0.82209599, -0.78136197, -0.73654407, -0.70329715,\n",
              "       -0.69334925, -0.71334976, -0.75581158, -0.79528902, -0.79774982,\n",
              "       -0.73926665, -0.60978692, -0.42061979, -0.19710624,  0.02258522,\n",
              "        0.21232827,  0.36290803,  0.48076443,  0.57636896,  0.66684247,\n",
              "        0.76359886,  0.87066965,  0.98030596,  1.0863296 ,  1.17638425,\n",
              "        1.24413467,  1.28617762,  1.30649228,  1.31361288,  1.31869154,\n",
              "        1.32989601,  1.34963474,  1.37654642,  1.40790847,  1.44010825,\n",
              "        1.46979487,  1.49759662,  1.52346116,  1.54854033,  1.57309593])"
            ]
          },
          "metadata": {
            "tags": []
          },
          "execution_count": 21
        }
      ]
    },
    {
      "cell_type": "code",
      "metadata": {
        "id": "izjeiY7-lO_a"
      },
      "source": [
        "confronto = pd.read_csv(\"https://raw.githubusercontent.com/fedhere/MLPNS2021/main/midterm/country_pop_final.csv\")"
      ],
      "execution_count": 22,
      "outputs": []
    },
    {
      "cell_type": "code",
      "metadata": {
        "colab": {
          "base_uri": "https://localhost:8080/",
          "height": 232
        },
        "id": "s2J_oaTHlZj-",
        "outputId": "1485315f-5efb-4f6a-9830-1ff320b48ecd"
      },
      "source": [
        "confronto.head()"
      ],
      "execution_count": 23,
      "outputs": [
        {
          "output_type": "execute_result",
          "data": {
            "text/html": [
              "<div>\n",
              "<style scoped>\n",
              "    .dataframe tbody tr th:only-of-type {\n",
              "        vertical-align: middle;\n",
              "    }\n",
              "\n",
              "    .dataframe tbody tr th {\n",
              "        vertical-align: top;\n",
              "    }\n",
              "\n",
              "    .dataframe thead th {\n",
              "        text-align: right;\n",
              "    }\n",
              "</style>\n",
              "<table border=\"1\" class=\"dataframe\">\n",
              "  <thead>\n",
              "    <tr style=\"text-align: right;\">\n",
              "      <th></th>\n",
              "      <th>Unnamed: 0</th>\n",
              "      <th>0</th>\n",
              "      <th>1</th>\n",
              "      <th>2</th>\n",
              "      <th>3</th>\n",
              "      <th>4</th>\n",
              "      <th>5</th>\n",
              "      <th>6</th>\n",
              "      <th>7</th>\n",
              "      <th>8</th>\n",
              "      <th>9</th>\n",
              "      <th>10</th>\n",
              "      <th>11</th>\n",
              "      <th>12</th>\n",
              "      <th>13</th>\n",
              "      <th>14</th>\n",
              "      <th>15</th>\n",
              "      <th>16</th>\n",
              "      <th>17</th>\n",
              "      <th>18</th>\n",
              "      <th>19</th>\n",
              "      <th>20</th>\n",
              "      <th>21</th>\n",
              "      <th>22</th>\n",
              "      <th>23</th>\n",
              "      <th>24</th>\n",
              "      <th>25</th>\n",
              "      <th>26</th>\n",
              "      <th>27</th>\n",
              "      <th>28</th>\n",
              "      <th>29</th>\n",
              "      <th>30</th>\n",
              "      <th>31</th>\n",
              "      <th>32</th>\n",
              "      <th>33</th>\n",
              "      <th>34</th>\n",
              "      <th>35</th>\n",
              "      <th>36</th>\n",
              "      <th>37</th>\n",
              "      <th>38</th>\n",
              "      <th>39</th>\n",
              "      <th>40</th>\n",
              "      <th>41</th>\n",
              "      <th>42</th>\n",
              "      <th>43</th>\n",
              "      <th>44</th>\n",
              "      <th>45</th>\n",
              "      <th>46</th>\n",
              "      <th>47</th>\n",
              "      <th>48</th>\n",
              "      <th>49</th>\n",
              "      <th>50</th>\n",
              "      <th>51</th>\n",
              "      <th>52</th>\n",
              "      <th>53</th>\n",
              "      <th>54</th>\n",
              "      <th>55</th>\n",
              "      <th>56</th>\n",
              "      <th>57</th>\n",
              "      <th>58</th>\n",
              "      <th>59</th>\n",
              "    </tr>\n",
              "  </thead>\n",
              "  <tbody>\n",
              "    <tr>\n",
              "      <th>0</th>\n",
              "      <td>0</td>\n",
              "      <td>-1.154879</td>\n",
              "      <td>-1.090637</td>\n",
              "      <td>-1.049432</td>\n",
              "      <td>-1.024824</td>\n",
              "      <td>-1.007179</td>\n",
              "      <td>-0.990006</td>\n",
              "      <td>-0.971419</td>\n",
              "      <td>-0.953618</td>\n",
              "      <td>-0.936287</td>\n",
              "      <td>-0.918486</td>\n",
              "      <td>-0.900841</td>\n",
              "      <td>-0.881103</td>\n",
              "      <td>-0.860160</td>\n",
              "      <td>-0.839060</td>\n",
              "      <td>-0.824138</td>\n",
              "      <td>-0.817384</td>\n",
              "      <td>-0.821101</td>\n",
              "      <td>-0.832620</td>\n",
              "      <td>-0.846390</td>\n",
              "      <td>-0.852830</td>\n",
              "      <td>-0.846756</td>\n",
              "      <td>-0.822096</td>\n",
              "      <td>-0.781362</td>\n",
              "      <td>-0.736544</td>\n",
              "      <td>-0.703297</td>\n",
              "      <td>-0.693349</td>\n",
              "      <td>-0.713350</td>\n",
              "      <td>-0.755812</td>\n",
              "      <td>-0.795289</td>\n",
              "      <td>-0.797750</td>\n",
              "      <td>-0.739267</td>\n",
              "      <td>-0.609787</td>\n",
              "      <td>-0.420620</td>\n",
              "      <td>-0.197106</td>\n",
              "      <td>0.022585</td>\n",
              "      <td>0.212328</td>\n",
              "      <td>0.362908</td>\n",
              "      <td>0.480764</td>\n",
              "      <td>0.576369</td>\n",
              "      <td>0.666842</td>\n",
              "      <td>0.763599</td>\n",
              "      <td>0.870670</td>\n",
              "      <td>0.980306</td>\n",
              "      <td>1.086330</td>\n",
              "      <td>1.176384</td>\n",
              "      <td>1.244135</td>\n",
              "      <td>1.286178</td>\n",
              "      <td>1.306492</td>\n",
              "      <td>1.313613</td>\n",
              "      <td>1.318692</td>\n",
              "      <td>1.329896</td>\n",
              "      <td>1.349635</td>\n",
              "      <td>1.376546</td>\n",
              "      <td>1.407908</td>\n",
              "      <td>1.440108</td>\n",
              "      <td>1.469795</td>\n",
              "      <td>1.497597</td>\n",
              "      <td>1.523461</td>\n",
              "      <td>1.548540</td>\n",
              "      <td>1.573096</td>\n",
              "    </tr>\n",
              "    <tr>\n",
              "      <th>1</th>\n",
              "      <td>1</td>\n",
              "      <td>-1.084549</td>\n",
              "      <td>-1.064579</td>\n",
              "      <td>-1.043499</td>\n",
              "      <td>-1.021292</td>\n",
              "      <td>-0.997949</td>\n",
              "      <td>-0.973451</td>\n",
              "      <td>-0.948146</td>\n",
              "      <td>-0.922079</td>\n",
              "      <td>-0.894618</td>\n",
              "      <td>-0.864889</td>\n",
              "      <td>-0.832479</td>\n",
              "      <td>-0.797529</td>\n",
              "      <td>-0.760961</td>\n",
              "      <td>-0.724164</td>\n",
              "      <td>-0.688961</td>\n",
              "      <td>-0.656974</td>\n",
              "      <td>-0.627567</td>\n",
              "      <td>-0.601139</td>\n",
              "      <td>-0.581465</td>\n",
              "      <td>-0.573375</td>\n",
              "      <td>-0.579691</td>\n",
              "      <td>-0.601097</td>\n",
              "      <td>-0.634581</td>\n",
              "      <td>-0.674511</td>\n",
              "      <td>-0.713124</td>\n",
              "      <td>-0.743938</td>\n",
              "      <td>-0.767334</td>\n",
              "      <td>-0.782579</td>\n",
              "      <td>-0.781019</td>\n",
              "      <td>-0.751967</td>\n",
              "      <td>-0.689035</td>\n",
              "      <td>-0.586350</td>\n",
              "      <td>-0.448943</td>\n",
              "      <td>-0.294800</td>\n",
              "      <td>-0.148987</td>\n",
              "      <td>-0.029137</td>\n",
              "      <td>0.056881</td>\n",
              "      <td>0.115211</td>\n",
              "      <td>0.159291</td>\n",
              "      <td>0.209444</td>\n",
              "      <td>0.279982</td>\n",
              "      <td>0.375757</td>\n",
              "      <td>0.490842</td>\n",
              "      <td>0.615923</td>\n",
              "      <td>0.737033</td>\n",
              "      <td>0.844454</td>\n",
              "      <td>0.934639</td>\n",
              "      <td>1.011938</td>\n",
              "      <td>1.083939</td>\n",
              "      <td>1.161822</td>\n",
              "      <td>1.253388</td>\n",
              "      <td>1.361308</td>\n",
              "      <td>1.482204</td>\n",
              "      <td>1.610541</td>\n",
              "      <td>1.738066</td>\n",
              "      <td>1.858829</td>\n",
              "      <td>1.971105</td>\n",
              "      <td>2.076867</td>\n",
              "      <td>2.178310</td>\n",
              "      <td>2.278988</td>\n",
              "    </tr>\n",
              "    <tr>\n",
              "      <th>2</th>\n",
              "      <td>2</td>\n",
              "      <td>-1.080266</td>\n",
              "      <td>-1.070385</td>\n",
              "      <td>-1.060437</td>\n",
              "      <td>-1.051282</td>\n",
              "      <td>-1.044106</td>\n",
              "      <td>-1.039520</td>\n",
              "      <td>-1.038146</td>\n",
              "      <td>-1.039046</td>\n",
              "      <td>-1.039380</td>\n",
              "      <td>-1.035301</td>\n",
              "      <td>-1.024056</td>\n",
              "      <td>-1.004639</td>\n",
              "      <td>-0.977817</td>\n",
              "      <td>-0.945750</td>\n",
              "      <td>-0.911616</td>\n",
              "      <td>-0.877714</td>\n",
              "      <td>-0.844731</td>\n",
              "      <td>-0.811912</td>\n",
              "      <td>-0.778740</td>\n",
              "      <td>-0.744226</td>\n",
              "      <td>-0.707665</td>\n",
              "      <td>-0.669047</td>\n",
              "      <td>-0.628706</td>\n",
              "      <td>-0.586732</td>\n",
              "      <td>-0.543273</td>\n",
              "      <td>-0.498447</td>\n",
              "      <td>-0.452218</td>\n",
              "      <td>-0.404566</td>\n",
              "      <td>-0.355667</td>\n",
              "      <td>-0.305744</td>\n",
              "      <td>-0.254933</td>\n",
              "      <td>-0.203230</td>\n",
              "      <td>-0.150501</td>\n",
              "      <td>-0.096583</td>\n",
              "      <td>-0.041242</td>\n",
              "      <td>0.015746</td>\n",
              "      <td>0.074548</td>\n",
              "      <td>0.135331</td>\n",
              "      <td>0.198331</td>\n",
              "      <td>0.263814</td>\n",
              "      <td>0.332052</td>\n",
              "      <td>0.403088</td>\n",
              "      <td>0.477142</td>\n",
              "      <td>0.554862</td>\n",
              "      <td>0.637050</td>\n",
              "      <td>0.724245</td>\n",
              "      <td>0.816712</td>\n",
              "      <td>0.914235</td>\n",
              "      <td>1.016251</td>\n",
              "      <td>1.121931</td>\n",
              "      <td>1.230620</td>\n",
              "      <td>1.342208</td>\n",
              "      <td>1.456746</td>\n",
              "      <td>1.573940</td>\n",
              "      <td>1.693478</td>\n",
              "      <td>1.815158</td>\n",
              "      <td>1.938840</td>\n",
              "      <td>2.064608</td>\n",
              "      <td>2.192797</td>\n",
              "      <td>2.323892</td>\n",
              "    </tr>\n",
              "    <tr>\n",
              "      <th>3</th>\n",
              "      <td>3</td>\n",
              "      <td>-2.309253</td>\n",
              "      <td>-2.202138</td>\n",
              "      <td>-2.093934</td>\n",
              "      <td>-1.986185</td>\n",
              "      <td>-1.877992</td>\n",
              "      <td>-1.771600</td>\n",
              "      <td>-1.667044</td>\n",
              "      <td>-1.559877</td>\n",
              "      <td>-1.440845</td>\n",
              "      <td>-1.316040</td>\n",
              "      <td>-1.203079</td>\n",
              "      <td>-1.093079</td>\n",
              "      <td>-0.976990</td>\n",
              "      <td>-0.864360</td>\n",
              "      <td>-0.752264</td>\n",
              "      <td>-0.637364</td>\n",
              "      <td>-0.524590</td>\n",
              "      <td>-0.409032</td>\n",
              "      <td>-0.298305</td>\n",
              "      <td>-0.190002</td>\n",
              "      <td>-0.076241</td>\n",
              "      <td>0.037299</td>\n",
              "      <td>0.159581</td>\n",
              "      <td>0.284930</td>\n",
              "      <td>0.411932</td>\n",
              "      <td>0.538648</td>\n",
              "      <td>0.660198</td>\n",
              "      <td>0.788252</td>\n",
              "      <td>0.911603</td>\n",
              "      <td>1.091402</td>\n",
              "      <td>1.214476</td>\n",
              "      <td>1.172992</td>\n",
              "      <td>1.131509</td>\n",
              "      <td>1.090024</td>\n",
              "      <td>1.048542</td>\n",
              "      <td>1.007057</td>\n",
              "      <td>0.965574</td>\n",
              "      <td>0.924090</td>\n",
              "      <td>0.882607</td>\n",
              "      <td>0.841122</td>\n",
              "      <td>0.799640</td>\n",
              "      <td>0.739038</td>\n",
              "      <td>0.719793</td>\n",
              "      <td>0.695863</td>\n",
              "      <td>0.669237</td>\n",
              "      <td>0.636784</td>\n",
              "      <td>0.597004</td>\n",
              "      <td>0.549685</td>\n",
              "      <td>0.502002</td>\n",
              "      <td>0.460427</td>\n",
              "      <td>0.429978</td>\n",
              "      <td>0.413541</td>\n",
              "      <td>0.403472</td>\n",
              "      <td>0.392322</td>\n",
              "      <td>0.379745</td>\n",
              "      <td>0.362101</td>\n",
              "      <td>0.352435</td>\n",
              "      <td>0.346882</td>\n",
              "      <td>0.332010</td>\n",
              "      <td>0.306418</td>\n",
              "    </tr>\n",
              "    <tr>\n",
              "      <th>4</th>\n",
              "      <td>4</td>\n",
              "      <td>-1.634368</td>\n",
              "      <td>-1.593055</td>\n",
              "      <td>-1.550413</td>\n",
              "      <td>-1.505757</td>\n",
              "      <td>-1.460458</td>\n",
              "      <td>-1.414174</td>\n",
              "      <td>-1.367118</td>\n",
              "      <td>-1.319505</td>\n",
              "      <td>-1.270993</td>\n",
              "      <td>-1.220937</td>\n",
              "      <td>-1.168738</td>\n",
              "      <td>-1.113754</td>\n",
              "      <td>-1.056627</td>\n",
              "      <td>-0.999200</td>\n",
              "      <td>-0.944002</td>\n",
              "      <td>-0.893218</td>\n",
              "      <td>-0.847276</td>\n",
              "      <td>-0.804677</td>\n",
              "      <td>-0.763279</td>\n",
              "      <td>-0.716951</td>\n",
              "      <td>-0.663424</td>\n",
              "      <td>-0.602012</td>\n",
              "      <td>-0.532842</td>\n",
              "      <td>-0.457716</td>\n",
              "      <td>-0.378904</td>\n",
              "      <td>-0.297735</td>\n",
              "      <td>-0.215580</td>\n",
              "      <td>-0.132525</td>\n",
              "      <td>-0.047714</td>\n",
              "      <td>0.038598</td>\n",
              "      <td>0.126924</td>\n",
              "      <td>0.219579</td>\n",
              "      <td>0.314590</td>\n",
              "      <td>0.403859</td>\n",
              "      <td>0.476971</td>\n",
              "      <td>0.527241</td>\n",
              "      <td>0.549098</td>\n",
              "      <td>0.547683</td>\n",
              "      <td>0.539755</td>\n",
              "      <td>0.549526</td>\n",
              "      <td>0.593239</td>\n",
              "      <td>0.676851</td>\n",
              "      <td>0.792905</td>\n",
              "      <td>0.927172</td>\n",
              "      <td>1.058397</td>\n",
              "      <td>1.170808</td>\n",
              "      <td>1.261920</td>\n",
              "      <td>1.334389</td>\n",
              "      <td>1.384874</td>\n",
              "      <td>1.410630</td>\n",
              "      <td>1.410030</td>\n",
              "      <td>1.379945</td>\n",
              "      <td>1.323375</td>\n",
              "      <td>1.252534</td>\n",
              "      <td>1.185636</td>\n",
              "      <td>1.134124</td>\n",
              "      <td>1.103525</td>\n",
              "      <td>1.090839</td>\n",
              "      <td>1.091053</td>\n",
              "      <td>1.096882</td>\n",
              "    </tr>\n",
              "  </tbody>\n",
              "</table>\n",
              "</div>"
            ],
            "text/plain": [
              "   Unnamed: 0         0         1  ...        57        58        59\n",
              "0           0 -1.154879 -1.090637  ...  1.523461  1.548540  1.573096\n",
              "1           1 -1.084549 -1.064579  ...  2.076867  2.178310  2.278988\n",
              "2           2 -1.080266 -1.070385  ...  2.064608  2.192797  2.323892\n",
              "3           3 -2.309253 -2.202138  ...  0.346882  0.332010  0.306418\n",
              "4           4 -1.634368 -1.593055  ...  1.090839  1.091053  1.096882\n",
              "\n",
              "[5 rows x 61 columns]"
            ]
          },
          "metadata": {
            "tags": []
          },
          "execution_count": 23
        }
      ]
    },
    {
      "cell_type": "markdown",
      "metadata": {
        "id": "oMXZa10cYBek"
      },
      "source": [
        "# PART 2 - feature engineering"
      ]
    },
    {
      "cell_type": "markdown",
      "metadata": {
        "id": "6yg70oTxzZr2"
      },
      "source": [
        "\n",
        "\n",
        "# Task 2.I\n",
        "\n",
        "fit a second degree polynomial (```y = ax^2 + bx + c```) to each time series. Store the values of a,b,c for each time series in an array called ```features``` (I recommand using L2 for the fit and ```scipy.optimize.minimize```)\n",
        "\n",
        "For each feature test if the sample is consistent with coming from a normal distribution (with  NHRT test, e.g. we used the KS test in class for this purpose)\n",
        "\n",
        "**plot the histogram of each feature**\n",
        "\n",
        "Optional: also store the value of L2 for the best fit parameters. Then your feature space would be 4-dimensional"
      ]
    },
    {
      "cell_type": "code",
      "metadata": {
        "id": "7eiifW7FlryA"
      },
      "source": [
        "def poldeg2(x, a, b, c):\n",
        "  return a * (x ** 2) + b * x + c"
      ],
      "execution_count": 24,
      "outputs": []
    },
    {
      "cell_type": "code",
      "metadata": {
        "id": "tjQdQHCYmDUi"
      },
      "source": [
        "def L2(theta, x, y):\n",
        "  a, b, c = theta\n",
        "  return sum((y - poldeg2(x, a, b, c))**2)"
      ],
      "execution_count": 25,
      "outputs": []
    },
    {
      "cell_type": "code",
      "metadata": {
        "id": "pQUZCcKhmeFT"
      },
      "source": [
        "par = []\n",
        "ig = [1, 1, -1]\n",
        "x = np.arange(1960, 2020)\n",
        "for i in range(datafinal.shape[0]):\n",
        "  y = datafinal[i,:]\n",
        "  best = scipy.optimize.minimize(L2, ig, args = (x, y))\n",
        "  par.append(best.x)"
      ],
      "execution_count": 26,
      "outputs": []
    },
    {
      "cell_type": "code",
      "metadata": {
        "id": "XzQc-HPqqH27"
      },
      "source": [
        "features = np.array(par)"
      ],
      "execution_count": 27,
      "outputs": []
    },
    {
      "cell_type": "code",
      "metadata": {
        "colab": {
          "base_uri": "https://localhost:8080/"
        },
        "id": "hUhm0Lr5qa0m",
        "outputId": "f3e6ab93-ec02-459d-ec08-f54410b1c4b8"
      },
      "source": [
        "datafinal.shape"
      ],
      "execution_count": 28,
      "outputs": [
        {
          "output_type": "execute_result",
          "data": {
            "text/plain": [
              "(258, 60)"
            ]
          },
          "metadata": {
            "tags": []
          },
          "execution_count": 28
        }
      ]
    },
    {
      "cell_type": "code",
      "metadata": {
        "colab": {
          "base_uri": "https://localhost:8080/"
        },
        "id": "pgRV3_-XplrJ",
        "outputId": "da649650-bc19-4919-95c6-5755957c8e00"
      },
      "source": [
        "features.shape"
      ],
      "execution_count": 29,
      "outputs": [
        {
          "output_type": "execute_result",
          "data": {
            "text/plain": [
              "(258, 3)"
            ]
          },
          "metadata": {
            "tags": []
          },
          "execution_count": 29
        }
      ]
    },
    {
      "cell_type": "code",
      "metadata": {
        "colab": {
          "base_uri": "https://localhost:8080/",
          "height": 803
        },
        "id": "jkfv7Yd7qncL",
        "outputId": "d2dc23e3-c175-40e4-dc81-de5b45a7b8d9"
      },
      "source": [
        "for i, p in enumerate(['a', 'b', 'c']):\n",
        "  pl.figure()\n",
        "  pl.hist(features[:,i]);\n",
        "  pl.xlabel('%s'%p)\n",
        "  pl.ylabel('counts')"
      ],
      "execution_count": 30,
      "outputs": [
        {
          "output_type": "display_data",
          "data": {
            "image/png": "[encoded data removed]",
            "text/plain": [
              "<Figure size 432x288 with 1 Axes>"
            ]
          },
          "metadata": {
            "tags": [],
            "needs_background": "light"
          }
        },
        {
          "output_type": "display_data",
          "data": {
            "image/png": "[encoded data removed]",
            "text/plain": [
              "<Figure size 432x288 with 1 Axes>"
            ]
          },
          "metadata": {
            "tags": [],
            "needs_background": "light"
          }
        },
        {
          "output_type": "display_data",
          "data": {
            "image/png": "[encoded data removed]",
            "text/plain": [
              "<Figure size 432x288 with 1 Axes>"
            ]
          },
          "metadata": {
            "tags": [],
            "needs_background": "light"
          }
        }
      ]
    },
    {
      "cell_type": "markdown",
      "metadata": {
        "id": "6wuiHElyrNjU"
      },
      "source": [
        "Histograms of the (wrong) parameters of a second degree polynomial (y = ax^2 + bx + c) coming from a minimization of L2 with scipy.optimize.minimize where the independent variable is the population of a country over the years.\n",
        "(I don't know which initial guesses choose to return the correct fit)"
      ]
    },
    {
      "cell_type": "code",
      "metadata": {
        "colab": {
          "base_uri": "https://localhost:8080/"
        },
        "id": "NEEh0AuMsLW6",
        "outputId": "c0d5c778-6b04-489e-8007-99f0b544a2f2"
      },
      "source": [
        "scipy.stats.kstest(features[:,0], 'norm')"
      ],
      "execution_count": 31,
      "outputs": [
        {
          "output_type": "execute_result",
          "data": {
            "text/plain": [
              "KstestResult(statistic=0.48325358522152395, pvalue=5.574125146466368e-56)"
            ]
          },
          "metadata": {
            "tags": []
          },
          "execution_count": 31
        }
      ]
    },
    {
      "cell_type": "code",
      "metadata": {
        "colab": {
          "base_uri": "https://localhost:8080/"
        },
        "id": "Jtzw2YxGutKk",
        "outputId": "744da61f-db98-4cfa-9dce-0da508e24376"
      },
      "source": [
        "scipy.stats.kstest(features[:,1], 'norm')"
      ],
      "execution_count": 32,
      "outputs": [
        {
          "output_type": "execute_result",
          "data": {
            "text/plain": [
              "KstestResult(statistic=0.5658914728682171, pvalue=1.5430678214512691e-78)"
            ]
          },
          "metadata": {
            "tags": []
          },
          "execution_count": 32
        }
      ]
    },
    {
      "cell_type": "code",
      "metadata": {
        "colab": {
          "base_uri": "https://localhost:8080/"
        },
        "id": "3NxBRTL8uvpw",
        "outputId": "87dcc1d7-b14a-4bd0-de50-d6f7f33a0d32"
      },
      "source": [
        "scipy.stats.kstest(features[:,2], 'norm')"
      ],
      "execution_count": 33,
      "outputs": [
        {
          "output_type": "execute_result",
          "data": {
            "text/plain": [
              "KstestResult(statistic=0.5658914728682171, pvalue=1.5430678214512691e-78)"
            ]
          },
          "metadata": {
            "tags": []
          },
          "execution_count": 33
        }
      ]
    },
    {
      "cell_type": "markdown",
      "metadata": {
        "id": "0Twe-BMVtgC6"
      },
      "source": [
        "With a threshold of alpha = 0.05, p value < alpha and I have to reject the null hypothesis that the distributions of all the parameters come from a normal distribution."
      ]
    },
    {
      "cell_type": "markdown",
      "metadata": {
        "id": "GgIGVOBDX2fB"
      },
      "source": [
        "# PART 3 - modeling\n"
      ]
    },
    {
      "cell_type": "markdown",
      "metadata": {
        "id": "gbXEgXp_2RUp"
      },
      "source": [
        "\n",
        "# TASK 3.I - preprocess the features\n",
        "\n",
        "before you can use kmeans clusgtering you have to preprocess (scale) the features: all feature should have mean 0 and stdev 1 (you can again use sklearn.preprocess.scale (save the mean and stdev values... you will need the later)"
      ]
    },
    {
      "cell_type": "code",
      "metadata": {
        "id": "ecMLinOhvGl7"
      },
      "source": [
        "X2 = preprocessing.scale(features, axis = 0)"
      ],
      "execution_count": 34,
      "outputs": []
    },
    {
      "cell_type": "code",
      "metadata": {
        "colab": {
          "base_uri": "https://localhost:8080/"
        },
        "id": "THpkBaZO2QkD",
        "outputId": "37936295-4bce-49d5-d1fb-70accd32a2e6"
      },
      "source": [
        "...\n",
        "X2.std(axis=0)\n"
      ],
      "execution_count": 35,
      "outputs": [
        {
          "output_type": "execute_result",
          "data": {
            "text/plain": [
              "array([1., 1., 1.])"
            ]
          },
          "metadata": {
            "tags": []
          },
          "execution_count": 35
        }
      ]
    },
    {
      "cell_type": "markdown",
      "metadata": {
        "id": "7yUGnXne32qn"
      },
      "source": [
        "# TASK 2.III - choosing the number of clusters \n",
        "\n",
        "\n",
        "cluster the data using kmeans in 2, 3, ... up to 10 clusters and print the total variance for each cluster. \n",
        "\n",
        "Plot the total variance as a function of number of clusters. See https://slides.com/federicabianco/mlpns_4#/8/4\n",
        "\n",
        "Discuss the plot. Does it give insight into what is the the appropriate number of clusters?\n",
        "\n",
        "Choose a number of clusters and for that choice show the cluster centers.\n",
        "\n",
        "## shortcut\n",
        "\n",
        "the elbow plot does not help ... use 4 clusters\n",
        "\n",
        "\n",
        "\n"
      ]
    },
    {
      "cell_type": "markdown",
      "metadata": {
        "id": "bP8Xf3wTWSyz"
      },
      "source": [
        "\n",
        "# TASK 2.IV - clustering\n",
        "\n",
        "\n",
        "Note: the cluster centers are datapoints in the feature space. If your feature space is 3D (3 coefficients, or four depending on what you choose in task 2.II) your cluster center is a tuple of numbers. \n",
        "\n",
        "**However, the right way to show the cluster centers is to**\n",
        "\n",
        "1- unscale the cluster centers by multiplying them by the stdev and adding back the mean \n",
        "\n",
        "2- plot the polynomial generated by those cluster centers\n",
        "\n",
        "3- plot the time series that belong to that cluster in the same plot.\n",
        "\n",
        "Print how many time series are in each cluster.\n",
        "\n",
        "To measure the intracluster compactness (to make the elbow plot that may help you decide how many clusters to plot use the attribute of the cluster model\n",
        "```kmeas_fit_model.inertia_```\n",
        "\n",
        "To extract the cluster centers use \n",
        "```kmeas_fit_model.cluster_centers_```\n",
        "\n",
        "To extract the cluster assignment for each time series use \n",
        "\n",
        "```kmeas_fit_model.labels_```"
      ]
    },
    {
      "cell_type": "markdown",
      "metadata": {
        "id": "G4Ye65DPYGTC"
      },
      "source": [
        "# PART 4 - interpretation\n"
      ]
    },
    {
      "cell_type": "markdown",
      "metadata": {
        "id": "9-gd8Oz9VLln"
      },
      "source": [
        "\n",
        "\n",
        "\n",
        "# TASK 4.I\n",
        "extract the name of the countries in the 2 smallest clusters. Is there anything in common that gives away why they may have the same trends? If you have time try a quick google search"
      ]
    },
    {
      "cell_type": "code",
      "metadata": {
        "id": "I6wn5DuR8EiT",
        "colab": {
          "base_uri": "https://localhost:8080/",
          "height": 162
        },
        "outputId": "2b563cce-7fa2-452f-8200-9d52c14ee0c7"
      },
      "source": [
        "datain.index[c.labels_ == ...]"
      ],
      "execution_count": 36,
      "outputs": [
        {
          "output_type": "error",
          "ename": "NameError",
          "evalue": "ignored",
          "traceback": [
            "\u001b[0;31m---------------------------------------------------------------------------\u001b[0m",
            "\u001b[0;31mNameError\u001b[0m                                 Traceback (most recent call last)",
            "\u001b[0;32m<ipython-input-36-1ce7ad1e7040>\u001b[0m in \u001b[0;36m<module>\u001b[0;34m()\u001b[0m\n\u001b[0;32m----> 1\u001b[0;31m \u001b[0mdatain\u001b[0m\u001b[0;34m.\u001b[0m\u001b[0mindex\u001b[0m\u001b[0;34m[\u001b[0m\u001b[0mc\u001b[0m\u001b[0;34m.\u001b[0m\u001b[0mlabels_\u001b[0m \u001b[0;34m==\u001b[0m \u001b[0;34m...\u001b[0m\u001b[0;34m]\u001b[0m\u001b[0;34m\u001b[0m\u001b[0;34m\u001b[0m\u001b[0m\n\u001b[0m",
            "\u001b[0;31mNameError\u001b[0m: name 'c' is not defined"
          ]
        }
      ]
    }
  ]
}